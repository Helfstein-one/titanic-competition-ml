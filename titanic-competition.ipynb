{
 "cells": [
  {
   "cell_type": "markdown",
   "id": "7a0d4e6e",
   "metadata": {
    "papermill": {
     "duration": 0.002474,
     "end_time": "2022-11-15T04:22:44.920562",
     "exception": false,
     "start_time": "2022-11-15T04:22:44.918088",
     "status": "completed"
    },
    "tags": []
   },
   "source": [
    "# Titanic Competition - Machine Learning from Disaster"
   ]
  },
  {
   "cell_type": "markdown",
   "id": "eb088fed",
   "metadata": {
    "papermill": {
     "duration": 0.001443,
     "end_time": "2022-11-15T04:22:44.923949",
     "exception": false,
     "start_time": "2022-11-15T04:22:44.922506",
     "status": "completed"
    },
    "tags": []
   },
   "source": [
    " <img src=\"https://www.google.com/url?sa=i&url=https%3A%2F%2Fwww.activestate.com%2Fblog%2Fhow-to-use-machine-learning-to-determine-titanic-survivors%2F&psig=AOvVaw2ZGkYSY9Ptn751XlLWj8UI&ust=1668571120740000&source=images&cd=vfe&ved=0CBAQjRxqFwoTCMD0zfalr_sCFQAAAAAdAAAAABAO\" />"
   ]
  },
  {
   "cell_type": "code",
   "execution_count": 1,
   "id": "b9dd3286",
   "metadata": {
    "execution": {
     "iopub.execute_input": "2022-11-15T04:22:44.930074Z",
     "iopub.status.busy": "2022-11-15T04:22:44.929645Z",
     "iopub.status.idle": "2022-11-15T04:22:44.941520Z",
     "shell.execute_reply": "2022-11-15T04:22:44.940289Z"
    },
    "papermill": {
     "duration": 0.017669,
     "end_time": "2022-11-15T04:22:44.943883",
     "exception": false,
     "start_time": "2022-11-15T04:22:44.926214",
     "status": "completed"
    },
    "tags": []
   },
   "outputs": [
    {
     "name": "stdout",
     "output_type": "stream",
     "text": [
      "/kaggle/input/titanic/train.csv\n",
      "/kaggle/input/titanic/test.csv\n",
      "/kaggle/input/titanic/gender_submission.csv\n"
     ]
    }
   ],
   "source": [
    "# This Python 3 environment comes with many helpful analytics libraries installed\n",
    "# It is defined by the kaggle/python Docker image: https://github.com/kaggle/docker-python\n",
    "# For example, here's several helpful packages to load\n",
    "\n",
    "import numpy as np # linear algebra\n",
    "import pandas as pd # data processing, CSV file I/O (e.g. pd.read_csv)\n",
    "# Input data files are available in the read-only \"../input/\" directory\n",
    "# For example, running this (by clicking run or pressing Shift+Enter) will list all files under the input directory\n",
    "\n",
    "import os\n",
    "for dirname, _, filenames in os.walk('/kaggle/input'):\n",
    "    for filename in filenames:\n",
    "        print(os.path.join(dirname, filename))\n",
    "\n",
    "# You can write up to 20GB to the current directory (/kaggle/working/) that gets preserved as output when you create a version using \"Save & Run All\" \n",
    "# You can also write temporary files to /kaggle/temp/, but they won't be saved outside of the current session"
   ]
  },
  {
   "cell_type": "markdown",
   "id": "b8adb179",
   "metadata": {
    "papermill": {
     "duration": 0.001529,
     "end_time": "2022-11-15T04:22:44.947379",
     "exception": false,
     "start_time": "2022-11-15T04:22:44.945850",
     "status": "completed"
    },
    "tags": []
   },
   "source": [
    "#### Imports DataFrame \n",
    "- gender_submission\n",
    "- test\n",
    "- train"
   ]
  },
  {
   "cell_type": "code",
   "execution_count": 2,
   "id": "1fc445af",
   "metadata": {
    "execution": {
     "iopub.execute_input": "2022-11-15T04:22:44.952522Z",
     "iopub.status.busy": "2022-11-15T04:22:44.952096Z",
     "iopub.status.idle": "2022-11-15T04:22:44.984873Z",
     "shell.execute_reply": "2022-11-15T04:22:44.983900Z"
    },
    "papermill": {
     "duration": 0.038251,
     "end_time": "2022-11-15T04:22:44.987310",
     "exception": false,
     "start_time": "2022-11-15T04:22:44.949059",
     "status": "completed"
    },
    "tags": []
   },
   "outputs": [
    {
     "name": "stdout",
     "output_type": "stream",
     "text": [
      "Dataframes sucess converted\n"
     ]
    }
   ],
   "source": [
    "train = pd.read_csv(\"../input/titanic/train.csv\")\n",
    "test = pd.read_csv(\"../input/titanic/test.csv\")\n",
    "gender_submission = pd.read_csv(\"../input/titanic/gender_submission.csv\")\n",
    "\n",
    "print(f'Dataframes sucess converted')"
   ]
  }
 ],
 "metadata": {
  "kernelspec": {
   "display_name": "Python 3",
   "language": "python",
   "name": "python3"
  },
  "language_info": {
   "codemirror_mode": {
    "name": "ipython",
    "version": 3
   },
   "file_extension": ".py",
   "mimetype": "text/x-python",
   "name": "python",
   "nbconvert_exporter": "python",
   "pygments_lexer": "ipython3",
   "version": "3.7.12"
  },
  "papermill": {
   "default_parameters": {},
   "duration": 7.809351,
   "end_time": "2022-11-15T04:22:45.609384",
   "environment_variables": {},
   "exception": null,
   "input_path": "__notebook__.ipynb",
   "output_path": "__notebook__.ipynb",
   "parameters": {},
   "start_time": "2022-11-15T04:22:37.800033",
   "version": "2.3.4"
  }
 },
 "nbformat": 4,
 "nbformat_minor": 5
}
