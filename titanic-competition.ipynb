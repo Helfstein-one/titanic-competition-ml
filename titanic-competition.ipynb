{
 "cells": [
  {
   "cell_type": "markdown",
   "id": "a75d9566",
   "metadata": {
    "papermill": {
     "duration": 0.011968,
     "end_time": "2022-11-28T00:44:01.417295",
     "exception": false,
     "start_time": "2022-11-28T00:44:01.405327",
     "status": "completed"
    },
    "tags": []
   },
   "source": [
    "# Titanic Competition - Machine Learning from Disaster"
   ]
  },
  {
   "cell_type": "markdown",
   "id": "4e78f5f0",
   "metadata": {
    "papermill": {
     "duration": 0.011862,
     "end_time": "2022-11-28T00:44:01.439738",
     "exception": false,
     "start_time": "2022-11-28T00:44:01.427876",
     "status": "completed"
    },
    "tags": []
   },
   "source": [
    "![image](https://cdn.activestate.com/wp-content/uploads/2021/05/kaggle-titanic-challenge.jpg)"
   ]
  },
  {
   "cell_type": "markdown",
   "id": "b0776bde",
   "metadata": {
    "papermill": {
     "duration": 0.010081,
     "end_time": "2022-11-28T00:44:01.460251",
     "exception": false,
     "start_time": "2022-11-28T00:44:01.450170",
     "status": "completed"
    },
    "tags": []
   },
   "source": [
    "### Imports\n",
    "- RandomForestClassifier as our predict model.\n",
    "- train_test_split to divide our dataset in to arrays one to test and another to trainnig"
   ]
  },
  {
   "cell_type": "code",
   "execution_count": 1,
   "id": "53d6be74",
   "metadata": {
    "execution": {
     "iopub.execute_input": "2022-11-28T00:44:01.483092Z",
     "iopub.status.busy": "2022-11-28T00:44:01.482521Z",
     "iopub.status.idle": "2022-11-28T00:44:02.644827Z",
     "shell.execute_reply": "2022-11-28T00:44:02.643686Z"
    },
    "papermill": {
     "duration": 1.179903,
     "end_time": "2022-11-28T00:44:02.650477",
     "exception": false,
     "start_time": "2022-11-28T00:44:01.470574",
     "status": "completed"
    },
    "tags": []
   },
   "outputs": [
    {
     "name": "stdout",
     "output_type": "stream",
     "text": [
      "Imports successfully loaded\n"
     ]
    }
   ],
   "source": [
    "from sklearn.ensemble import RandomForestClassifier\n",
    "from sklearn.model_selection import train_test_split\n",
    "import numpy as np \n",
    "import pandas as pd \n",
    "import os\n",
    "\n",
    "\n",
    "print(f'Imports successfully loaded')"
   ]
  },
  {
   "cell_type": "code",
   "execution_count": 2,
   "id": "531d5750",
   "metadata": {
    "execution": {
     "iopub.execute_input": "2022-11-28T00:44:02.678792Z",
     "iopub.status.busy": "2022-11-28T00:44:02.678088Z",
     "iopub.status.idle": "2022-11-28T00:44:02.685996Z",
     "shell.execute_reply": "2022-11-28T00:44:02.685002Z"
    },
    "papermill": {
     "duration": 0.022243,
     "end_time": "2022-11-28T00:44:02.688228",
     "exception": false,
     "start_time": "2022-11-28T00:44:02.665985",
     "status": "completed"
    },
    "tags": []
   },
   "outputs": [
    {
     "name": "stdout",
     "output_type": "stream",
     "text": [
      "/kaggle/input/titanic/train.csv\n",
      "/kaggle/input/titanic/test.csv\n",
      "/kaggle/input/titanic/gender_submission.csv\n"
     ]
    }
   ],
   "source": [
    "for dirname, _, filenames in os.walk('/kaggle/input'):\n",
    "    for filename in filenames:\n",
    "        print(os.path.join(dirname, filename))"
   ]
  },
  {
   "cell_type": "markdown",
   "id": "12032956",
   "metadata": {
    "papermill": {
     "duration": 0.010441,
     "end_time": "2022-11-28T00:44:02.709639",
     "exception": false,
     "start_time": "2022-11-28T00:44:02.699198",
     "status": "completed"
    },
    "tags": []
   },
   "source": [
    "#### Imports DataFrame \n",
    "- gender_submission\n",
    "- test\n",
    "- train"
   ]
  },
  {
   "cell_type": "code",
   "execution_count": 3,
   "id": "4cc2789b",
   "metadata": {
    "execution": {
     "iopub.execute_input": "2022-11-28T00:44:02.733659Z",
     "iopub.status.busy": "2022-11-28T00:44:02.732859Z",
     "iopub.status.idle": "2022-11-28T00:44:02.768811Z",
     "shell.execute_reply": "2022-11-28T00:44:02.767535Z"
    },
    "papermill": {
     "duration": 0.051267,
     "end_time": "2022-11-28T00:44:02.771659",
     "exception": false,
     "start_time": "2022-11-28T00:44:02.720392",
     "status": "completed"
    },
    "tags": []
   },
   "outputs": [
    {
     "name": "stdout",
     "output_type": "stream",
     "text": [
      "Dataframes successfully converted\n"
     ]
    }
   ],
   "source": [
    "train = pd.read_csv(\"../input/titanic/train.csv\")\n",
    "test = pd.read_csv(\"../input/titanic/test.csv\")\n",
    "gender_submission = pd.read_csv(\"../input/titanic/gender_submission.csv\")\n",
    "\n",
    "print(f'Dataframes successfully converted')"
   ]
  },
  {
   "cell_type": "markdown",
   "id": "aeb15736",
   "metadata": {
    "papermill": {
     "duration": 0.010514,
     "end_time": "2022-11-28T00:44:02.794172",
     "exception": false,
     "start_time": "2022-11-28T00:44:02.783658",
     "status": "completed"
    },
    "tags": []
   },
   "source": [
    "\n",
    "### Analyzing training data"
   ]
  },
  {
   "cell_type": "code",
   "execution_count": 4,
   "id": "40dfa4c7",
   "metadata": {
    "execution": {
     "iopub.execute_input": "2022-11-28T00:44:02.817419Z",
     "iopub.status.busy": "2022-11-28T00:44:02.817018Z",
     "iopub.status.idle": "2022-11-28T00:44:02.841875Z",
     "shell.execute_reply": "2022-11-28T00:44:02.840625Z"
    },
    "papermill": {
     "duration": 0.039026,
     "end_time": "2022-11-28T00:44:02.844029",
     "exception": false,
     "start_time": "2022-11-28T00:44:02.805003",
     "status": "completed"
    },
    "tags": []
   },
   "outputs": [
    {
     "data": {
      "text/html": [
       "<div>\n",
       "<style scoped>\n",
       "    .dataframe tbody tr th:only-of-type {\n",
       "        vertical-align: middle;\n",
       "    }\n",
       "\n",
       "    .dataframe tbody tr th {\n",
       "        vertical-align: top;\n",
       "    }\n",
       "\n",
       "    .dataframe thead th {\n",
       "        text-align: right;\n",
       "    }\n",
       "</style>\n",
       "<table border=\"1\" class=\"dataframe\">\n",
       "  <thead>\n",
       "    <tr style=\"text-align: right;\">\n",
       "      <th></th>\n",
       "      <th>PassengerId</th>\n",
       "      <th>Survived</th>\n",
       "      <th>Pclass</th>\n",
       "      <th>Name</th>\n",
       "      <th>Sex</th>\n",
       "      <th>Age</th>\n",
       "      <th>SibSp</th>\n",
       "      <th>Parch</th>\n",
       "      <th>Ticket</th>\n",
       "      <th>Fare</th>\n",
       "      <th>Cabin</th>\n",
       "      <th>Embarked</th>\n",
       "    </tr>\n",
       "  </thead>\n",
       "  <tbody>\n",
       "    <tr>\n",
       "      <th>0</th>\n",
       "      <td>1</td>\n",
       "      <td>0</td>\n",
       "      <td>3</td>\n",
       "      <td>Braund, Mr. Owen Harris</td>\n",
       "      <td>male</td>\n",
       "      <td>22.0</td>\n",
       "      <td>1</td>\n",
       "      <td>0</td>\n",
       "      <td>A/5 21171</td>\n",
       "      <td>7.2500</td>\n",
       "      <td>NaN</td>\n",
       "      <td>S</td>\n",
       "    </tr>\n",
       "    <tr>\n",
       "      <th>1</th>\n",
       "      <td>2</td>\n",
       "      <td>1</td>\n",
       "      <td>1</td>\n",
       "      <td>Cumings, Mrs. John Bradley (Florence Briggs Th...</td>\n",
       "      <td>female</td>\n",
       "      <td>38.0</td>\n",
       "      <td>1</td>\n",
       "      <td>0</td>\n",
       "      <td>PC 17599</td>\n",
       "      <td>71.2833</td>\n",
       "      <td>C85</td>\n",
       "      <td>C</td>\n",
       "    </tr>\n",
       "    <tr>\n",
       "      <th>2</th>\n",
       "      <td>3</td>\n",
       "      <td>1</td>\n",
       "      <td>3</td>\n",
       "      <td>Heikkinen, Miss. Laina</td>\n",
       "      <td>female</td>\n",
       "      <td>26.0</td>\n",
       "      <td>0</td>\n",
       "      <td>0</td>\n",
       "      <td>STON/O2. 3101282</td>\n",
       "      <td>7.9250</td>\n",
       "      <td>NaN</td>\n",
       "      <td>S</td>\n",
       "    </tr>\n",
       "    <tr>\n",
       "      <th>3</th>\n",
       "      <td>4</td>\n",
       "      <td>1</td>\n",
       "      <td>1</td>\n",
       "      <td>Futrelle, Mrs. Jacques Heath (Lily May Peel)</td>\n",
       "      <td>female</td>\n",
       "      <td>35.0</td>\n",
       "      <td>1</td>\n",
       "      <td>0</td>\n",
       "      <td>113803</td>\n",
       "      <td>53.1000</td>\n",
       "      <td>C123</td>\n",
       "      <td>S</td>\n",
       "    </tr>\n",
       "    <tr>\n",
       "      <th>4</th>\n",
       "      <td>5</td>\n",
       "      <td>0</td>\n",
       "      <td>3</td>\n",
       "      <td>Allen, Mr. William Henry</td>\n",
       "      <td>male</td>\n",
       "      <td>35.0</td>\n",
       "      <td>0</td>\n",
       "      <td>0</td>\n",
       "      <td>373450</td>\n",
       "      <td>8.0500</td>\n",
       "      <td>NaN</td>\n",
       "      <td>S</td>\n",
       "    </tr>\n",
       "  </tbody>\n",
       "</table>\n",
       "</div>"
      ],
      "text/plain": [
       "   PassengerId  Survived  Pclass  \\\n",
       "0            1         0       3   \n",
       "1            2         1       1   \n",
       "2            3         1       3   \n",
       "3            4         1       1   \n",
       "4            5         0       3   \n",
       "\n",
       "                                                Name     Sex   Age  SibSp  \\\n",
       "0                            Braund, Mr. Owen Harris    male  22.0      1   \n",
       "1  Cumings, Mrs. John Bradley (Florence Briggs Th...  female  38.0      1   \n",
       "2                             Heikkinen, Miss. Laina  female  26.0      0   \n",
       "3       Futrelle, Mrs. Jacques Heath (Lily May Peel)  female  35.0      1   \n",
       "4                           Allen, Mr. William Henry    male  35.0      0   \n",
       "\n",
       "   Parch            Ticket     Fare Cabin Embarked  \n",
       "0      0         A/5 21171   7.2500   NaN        S  \n",
       "1      0          PC 17599  71.2833   C85        C  \n",
       "2      0  STON/O2. 3101282   7.9250   NaN        S  \n",
       "3      0            113803  53.1000  C123        S  \n",
       "4      0            373450   8.0500   NaN        S  "
      ]
     },
     "execution_count": 4,
     "metadata": {},
     "output_type": "execute_result"
    }
   ],
   "source": [
    "train.head()"
   ]
  },
  {
   "cell_type": "markdown",
   "id": "1debc7ba",
   "metadata": {
    "papermill": {
     "duration": 0.010751,
     "end_time": "2022-11-28T00:44:02.865909",
     "exception": false,
     "start_time": "2022-11-28T00:44:02.855158",
     "status": "completed"
    },
    "tags": []
   },
   "source": [
    "### Creating Model e using RandomForest"
   ]
  },
  {
   "cell_type": "code",
   "execution_count": 5,
   "id": "d15728c3",
   "metadata": {
    "execution": {
     "iopub.execute_input": "2022-11-28T00:44:02.890082Z",
     "iopub.status.busy": "2022-11-28T00:44:02.889389Z",
     "iopub.status.idle": "2022-11-28T00:44:02.895985Z",
     "shell.execute_reply": "2022-11-28T00:44:02.894586Z"
    },
    "papermill": {
     "duration": 0.021363,
     "end_time": "2022-11-28T00:44:02.898260",
     "exception": false,
     "start_time": "2022-11-28T00:44:02.876897",
     "status": "completed"
    },
    "tags": []
   },
   "outputs": [
    {
     "name": "stdout",
     "output_type": "stream",
     "text": [
      "Modal successfully set\n"
     ]
    }
   ],
   "source": [
    "model = RandomForestClassifier(n_estimators=100, n_jobs=-1, random_state=0)\n",
    "\n",
    "print(f'Modal successfully set')"
   ]
  },
  {
   "cell_type": "markdown",
   "id": "c9723fce",
   "metadata": {
    "papermill": {
     "duration": 0.010773,
     "end_time": "2022-11-28T00:44:02.920352",
     "exception": false,
     "start_time": "2022-11-28T00:44:02.909579",
     "status": "completed"
    },
    "tags": []
   },
   "source": [
    "### Fuction to create binary values for sex"
   ]
  },
  {
   "cell_type": "code",
   "execution_count": 6,
   "id": "5f3ea460",
   "metadata": {
    "execution": {
     "iopub.execute_input": "2022-11-28T00:44:02.944519Z",
     "iopub.status.busy": "2022-11-28T00:44:02.943527Z",
     "iopub.status.idle": "2022-11-28T00:44:02.948969Z",
     "shell.execute_reply": "2022-11-28T00:44:02.948144Z"
    },
    "papermill": {
     "duration": 0.019624,
     "end_time": "2022-11-28T00:44:02.951005",
     "exception": false,
     "start_time": "2022-11-28T00:44:02.931381",
     "status": "completed"
    },
    "tags": []
   },
   "outputs": [],
   "source": [
    "def transform_sex(value):\n",
    "    if value == 'female':\n",
    "        return 1\n",
    "    else:\n",
    "        return 0"
   ]
  },
  {
   "cell_type": "markdown",
   "id": "55f2c1b6",
   "metadata": {
    "papermill": {
     "duration": 0.010885,
     "end_time": "2022-11-28T00:44:02.973041",
     "exception": false,
     "start_time": "2022-11-28T00:44:02.962156",
     "status": "completed"
    },
    "tags": []
   },
   "source": [
    "### Creating a new column applying the function transform_sex"
   ]
  },
  {
   "cell_type": "code",
   "execution_count": 7,
   "id": "e286c13f",
   "metadata": {
    "execution": {
     "iopub.execute_input": "2022-11-28T00:44:02.997382Z",
     "iopub.status.busy": "2022-11-28T00:44:02.996680Z",
     "iopub.status.idle": "2022-11-28T00:44:03.005395Z",
     "shell.execute_reply": "2022-11-28T00:44:03.004508Z"
    },
    "papermill": {
     "duration": 0.023384,
     "end_time": "2022-11-28T00:44:03.007541",
     "exception": false,
     "start_time": "2022-11-28T00:44:02.984157",
     "status": "completed"
    },
    "tags": []
   },
   "outputs": [],
   "source": [
    "train['Sex_binary'] = train['Sex'].map(transform_sex)"
   ]
  },
  {
   "cell_type": "markdown",
   "id": "8c2bfdef",
   "metadata": {
    "papermill": {
     "duration": 0.010771,
     "end_time": "2022-11-28T00:44:03.029437",
     "exception": false,
     "start_time": "2022-11-28T00:44:03.018666",
     "status": "completed"
    },
    "tags": []
   },
   "source": [
    "### Check the new column sex_binary"
   ]
  },
  {
   "cell_type": "code",
   "execution_count": 8,
   "id": "980084ca",
   "metadata": {
    "execution": {
     "iopub.execute_input": "2022-11-28T00:44:03.053778Z",
     "iopub.status.busy": "2022-11-28T00:44:03.053129Z",
     "iopub.status.idle": "2022-11-28T00:44:03.070253Z",
     "shell.execute_reply": "2022-11-28T00:44:03.069134Z"
    },
    "papermill": {
     "duration": 0.031848,
     "end_time": "2022-11-28T00:44:03.072391",
     "exception": false,
     "start_time": "2022-11-28T00:44:03.040543",
     "status": "completed"
    },
    "tags": []
   },
   "outputs": [
    {
     "data": {
      "text/html": [
       "<div>\n",
       "<style scoped>\n",
       "    .dataframe tbody tr th:only-of-type {\n",
       "        vertical-align: middle;\n",
       "    }\n",
       "\n",
       "    .dataframe tbody tr th {\n",
       "        vertical-align: top;\n",
       "    }\n",
       "\n",
       "    .dataframe thead th {\n",
       "        text-align: right;\n",
       "    }\n",
       "</style>\n",
       "<table border=\"1\" class=\"dataframe\">\n",
       "  <thead>\n",
       "    <tr style=\"text-align: right;\">\n",
       "      <th></th>\n",
       "      <th>PassengerId</th>\n",
       "      <th>Survived</th>\n",
       "      <th>Pclass</th>\n",
       "      <th>Name</th>\n",
       "      <th>Sex</th>\n",
       "      <th>Age</th>\n",
       "      <th>SibSp</th>\n",
       "      <th>Parch</th>\n",
       "      <th>Ticket</th>\n",
       "      <th>Fare</th>\n",
       "      <th>Cabin</th>\n",
       "      <th>Embarked</th>\n",
       "      <th>Sex_binary</th>\n",
       "    </tr>\n",
       "  </thead>\n",
       "  <tbody>\n",
       "    <tr>\n",
       "      <th>0</th>\n",
       "      <td>1</td>\n",
       "      <td>0</td>\n",
       "      <td>3</td>\n",
       "      <td>Braund, Mr. Owen Harris</td>\n",
       "      <td>male</td>\n",
       "      <td>22.0</td>\n",
       "      <td>1</td>\n",
       "      <td>0</td>\n",
       "      <td>A/5 21171</td>\n",
       "      <td>7.2500</td>\n",
       "      <td>NaN</td>\n",
       "      <td>S</td>\n",
       "      <td>0</td>\n",
       "    </tr>\n",
       "    <tr>\n",
       "      <th>1</th>\n",
       "      <td>2</td>\n",
       "      <td>1</td>\n",
       "      <td>1</td>\n",
       "      <td>Cumings, Mrs. John Bradley (Florence Briggs Th...</td>\n",
       "      <td>female</td>\n",
       "      <td>38.0</td>\n",
       "      <td>1</td>\n",
       "      <td>0</td>\n",
       "      <td>PC 17599</td>\n",
       "      <td>71.2833</td>\n",
       "      <td>C85</td>\n",
       "      <td>C</td>\n",
       "      <td>1</td>\n",
       "    </tr>\n",
       "    <tr>\n",
       "      <th>2</th>\n",
       "      <td>3</td>\n",
       "      <td>1</td>\n",
       "      <td>3</td>\n",
       "      <td>Heikkinen, Miss. Laina</td>\n",
       "      <td>female</td>\n",
       "      <td>26.0</td>\n",
       "      <td>0</td>\n",
       "      <td>0</td>\n",
       "      <td>STON/O2. 3101282</td>\n",
       "      <td>7.9250</td>\n",
       "      <td>NaN</td>\n",
       "      <td>S</td>\n",
       "      <td>1</td>\n",
       "    </tr>\n",
       "    <tr>\n",
       "      <th>3</th>\n",
       "      <td>4</td>\n",
       "      <td>1</td>\n",
       "      <td>1</td>\n",
       "      <td>Futrelle, Mrs. Jacques Heath (Lily May Peel)</td>\n",
       "      <td>female</td>\n",
       "      <td>35.0</td>\n",
       "      <td>1</td>\n",
       "      <td>0</td>\n",
       "      <td>113803</td>\n",
       "      <td>53.1000</td>\n",
       "      <td>C123</td>\n",
       "      <td>S</td>\n",
       "      <td>1</td>\n",
       "    </tr>\n",
       "    <tr>\n",
       "      <th>4</th>\n",
       "      <td>5</td>\n",
       "      <td>0</td>\n",
       "      <td>3</td>\n",
       "      <td>Allen, Mr. William Henry</td>\n",
       "      <td>male</td>\n",
       "      <td>35.0</td>\n",
       "      <td>0</td>\n",
       "      <td>0</td>\n",
       "      <td>373450</td>\n",
       "      <td>8.0500</td>\n",
       "      <td>NaN</td>\n",
       "      <td>S</td>\n",
       "      <td>0</td>\n",
       "    </tr>\n",
       "  </tbody>\n",
       "</table>\n",
       "</div>"
      ],
      "text/plain": [
       "   PassengerId  Survived  Pclass  \\\n",
       "0            1         0       3   \n",
       "1            2         1       1   \n",
       "2            3         1       3   \n",
       "3            4         1       1   \n",
       "4            5         0       3   \n",
       "\n",
       "                                                Name     Sex   Age  SibSp  \\\n",
       "0                            Braund, Mr. Owen Harris    male  22.0      1   \n",
       "1  Cumings, Mrs. John Bradley (Florence Briggs Th...  female  38.0      1   \n",
       "2                             Heikkinen, Miss. Laina  female  26.0      0   \n",
       "3       Futrelle, Mrs. Jacques Heath (Lily May Peel)  female  35.0      1   \n",
       "4                           Allen, Mr. William Henry    male  35.0      0   \n",
       "\n",
       "   Parch            Ticket     Fare Cabin Embarked  Sex_binary  \n",
       "0      0         A/5 21171   7.2500   NaN        S           0  \n",
       "1      0          PC 17599  71.2833   C85        C           1  \n",
       "2      0  STON/O2. 3101282   7.9250   NaN        S           1  \n",
       "3      0            113803  53.1000  C123        S           1  \n",
       "4      0            373450   8.0500   NaN        S           0  "
      ]
     },
     "execution_count": 8,
     "metadata": {},
     "output_type": "execute_result"
    }
   ],
   "source": [
    "train.head()"
   ]
  },
  {
   "cell_type": "markdown",
   "id": "e357a1a3",
   "metadata": {
    "papermill": {
     "duration": 0.011199,
     "end_time": "2022-11-28T00:44:03.095084",
     "exception": false,
     "start_time": "2022-11-28T00:44:03.083885",
     "status": "completed"
    },
    "tags": []
   },
   "source": [
    "\n",
    "### Defining the model variables"
   ]
  },
  {
   "cell_type": "code",
   "execution_count": 9,
   "id": "f5945e4c",
   "metadata": {
    "execution": {
     "iopub.execute_input": "2022-11-28T00:44:03.119825Z",
     "iopub.status.busy": "2022-11-28T00:44:03.118972Z",
     "iopub.status.idle": "2022-11-28T00:44:03.123315Z",
     "shell.execute_reply": "2022-11-28T00:44:03.122541Z"
    },
    "papermill": {
     "duration": 0.01888,
     "end_time": "2022-11-28T00:44:03.125285",
     "exception": false,
     "start_time": "2022-11-28T00:44:03.106405",
     "status": "completed"
    },
    "tags": []
   },
   "outputs": [],
   "source": [
    "var = ['Sex_binary', 'Age']"
   ]
  },
  {
   "cell_type": "markdown",
   "id": "03691730",
   "metadata": {
    "papermill": {
     "duration": 0.011068,
     "end_time": "2022-11-28T00:44:03.147724",
     "exception": false,
     "start_time": "2022-11-28T00:44:03.136656",
     "status": "completed"
    },
    "tags": []
   },
   "source": [
    "### The X will be our input var to trainnig our model and the y will be the output what will want to predict"
   ]
  },
  {
   "cell_type": "code",
   "execution_count": 10,
   "id": "4676467a",
   "metadata": {
    "execution": {
     "iopub.execute_input": "2022-11-28T00:44:03.172007Z",
     "iopub.status.busy": "2022-11-28T00:44:03.171606Z",
     "iopub.status.idle": "2022-11-28T00:44:03.180695Z",
     "shell.execute_reply": "2022-11-28T00:44:03.179889Z"
    },
    "papermill": {
     "duration": 0.023996,
     "end_time": "2022-11-28T00:44:03.183051",
     "exception": false,
     "start_time": "2022-11-28T00:44:03.159055",
     "status": "completed"
    },
    "tags": []
   },
   "outputs": [],
   "source": [
    "X = train[var]\n",
    "y = train['Survived']"
   ]
  },
  {
   "cell_type": "markdown",
   "id": "618c3623",
   "metadata": {
    "papermill": {
     "duration": 0.011122,
     "end_time": "2022-11-28T00:44:03.205634",
     "exception": false,
     "start_time": "2022-11-28T00:44:03.194512",
     "status": "completed"
    },
    "tags": []
   },
   "source": [
    "### Check df X and y"
   ]
  },
  {
   "cell_type": "code",
   "execution_count": 11,
   "id": "fb2b4b7e",
   "metadata": {
    "execution": {
     "iopub.execute_input": "2022-11-28T00:44:03.230135Z",
     "iopub.status.busy": "2022-11-28T00:44:03.229728Z",
     "iopub.status.idle": "2022-11-28T00:44:03.240038Z",
     "shell.execute_reply": "2022-11-28T00:44:03.239000Z"
    },
    "papermill": {
     "duration": 0.025353,
     "end_time": "2022-11-28T00:44:03.242487",
     "exception": false,
     "start_time": "2022-11-28T00:44:03.217134",
     "status": "completed"
    },
    "tags": []
   },
   "outputs": [
    {
     "data": {
      "text/html": [
       "<div>\n",
       "<style scoped>\n",
       "    .dataframe tbody tr th:only-of-type {\n",
       "        vertical-align: middle;\n",
       "    }\n",
       "\n",
       "    .dataframe tbody tr th {\n",
       "        vertical-align: top;\n",
       "    }\n",
       "\n",
       "    .dataframe thead th {\n",
       "        text-align: right;\n",
       "    }\n",
       "</style>\n",
       "<table border=\"1\" class=\"dataframe\">\n",
       "  <thead>\n",
       "    <tr style=\"text-align: right;\">\n",
       "      <th></th>\n",
       "      <th>Sex_binary</th>\n",
       "      <th>Age</th>\n",
       "    </tr>\n",
       "  </thead>\n",
       "  <tbody>\n",
       "    <tr>\n",
       "      <th>0</th>\n",
       "      <td>0</td>\n",
       "      <td>22.0</td>\n",
       "    </tr>\n",
       "    <tr>\n",
       "      <th>1</th>\n",
       "      <td>1</td>\n",
       "      <td>38.0</td>\n",
       "    </tr>\n",
       "    <tr>\n",
       "      <th>2</th>\n",
       "      <td>1</td>\n",
       "      <td>26.0</td>\n",
       "    </tr>\n",
       "    <tr>\n",
       "      <th>3</th>\n",
       "      <td>1</td>\n",
       "      <td>35.0</td>\n",
       "    </tr>\n",
       "    <tr>\n",
       "      <th>4</th>\n",
       "      <td>0</td>\n",
       "      <td>35.0</td>\n",
       "    </tr>\n",
       "  </tbody>\n",
       "</table>\n",
       "</div>"
      ],
      "text/plain": [
       "   Sex_binary   Age\n",
       "0           0  22.0\n",
       "1           1  38.0\n",
       "2           1  26.0\n",
       "3           1  35.0\n",
       "4           0  35.0"
      ]
     },
     "execution_count": 11,
     "metadata": {},
     "output_type": "execute_result"
    }
   ],
   "source": [
    "X.head()"
   ]
  },
  {
   "cell_type": "code",
   "execution_count": 12,
   "id": "c8e8c0e7",
   "metadata": {
    "execution": {
     "iopub.execute_input": "2022-11-28T00:44:03.267226Z",
     "iopub.status.busy": "2022-11-28T00:44:03.266820Z",
     "iopub.status.idle": "2022-11-28T00:44:03.274163Z",
     "shell.execute_reply": "2022-11-28T00:44:03.273064Z"
    },
    "papermill": {
     "duration": 0.022227,
     "end_time": "2022-11-28T00:44:03.276333",
     "exception": false,
     "start_time": "2022-11-28T00:44:03.254106",
     "status": "completed"
    },
    "tags": []
   },
   "outputs": [
    {
     "data": {
      "text/plain": [
       "0    0\n",
       "1    1\n",
       "2    1\n",
       "3    1\n",
       "4    0\n",
       "Name: Survived, dtype: int64"
      ]
     },
     "execution_count": 12,
     "metadata": {},
     "output_type": "execute_result"
    }
   ],
   "source": [
    "y.head()"
   ]
  },
  {
   "cell_type": "markdown",
   "id": "31388338",
   "metadata": {
    "papermill": {
     "duration": 0.011701,
     "end_time": "2022-11-28T00:44:03.299796",
     "exception": false,
     "start_time": "2022-11-28T00:44:03.288095",
     "status": "completed"
    },
    "tags": []
   },
   "source": [
    "### The model can't work with NAN values so let's treat filling with -1 "
   ]
  },
  {
   "cell_type": "code",
   "execution_count": 13,
   "id": "ebe5f79c",
   "metadata": {
    "execution": {
     "iopub.execute_input": "2022-11-28T00:44:03.324893Z",
     "iopub.status.busy": "2022-11-28T00:44:03.324495Z",
     "iopub.status.idle": "2022-11-28T00:44:03.329329Z",
     "shell.execute_reply": "2022-11-28T00:44:03.328406Z"
    },
    "papermill": {
     "duration": 0.019896,
     "end_time": "2022-11-28T00:44:03.331343",
     "exception": false,
     "start_time": "2022-11-28T00:44:03.311447",
     "status": "completed"
    },
    "tags": []
   },
   "outputs": [],
   "source": [
    "X = X.fillna(-1)"
   ]
  },
  {
   "cell_type": "markdown",
   "id": "42c69ff8",
   "metadata": {
    "papermill": {
     "duration": 0.011293,
     "end_time": "2022-11-28T00:44:03.355201",
     "exception": false,
     "start_time": "2022-11-28T00:44:03.343908",
     "status": "completed"
    },
    "tags": []
   },
   "source": [
    "### Creating the model that recive X and y. What you want to analyse and predict "
   ]
  },
  {
   "cell_type": "code",
   "execution_count": 14,
   "id": "6983aa04",
   "metadata": {
    "execution": {
     "iopub.execute_input": "2022-11-28T00:44:03.380250Z",
     "iopub.status.busy": "2022-11-28T00:44:03.379588Z",
     "iopub.status.idle": "2022-11-28T00:44:03.637555Z",
     "shell.execute_reply": "2022-11-28T00:44:03.636464Z"
    },
    "papermill": {
     "duration": 0.273458,
     "end_time": "2022-11-28T00:44:03.640048",
     "exception": false,
     "start_time": "2022-11-28T00:44:03.366590",
     "status": "completed"
    },
    "tags": []
   },
   "outputs": [
    {
     "data": {
      "text/plain": [
       "RandomForestClassifier(n_jobs=-1, random_state=0)"
      ]
     },
     "execution_count": 14,
     "metadata": {},
     "output_type": "execute_result"
    }
   ],
   "source": [
    "model.fit(X, y)"
   ]
  },
  {
   "cell_type": "markdown",
   "id": "5f591291",
   "metadata": {
    "papermill": {
     "duration": 0.01213,
     "end_time": "2022-11-28T00:44:03.663902",
     "exception": false,
     "start_time": "2022-11-28T00:44:03.651772",
     "status": "completed"
    },
    "tags": []
   },
   "source": [
    "### Applying the function transform_sex to test df"
   ]
  },
  {
   "cell_type": "code",
   "execution_count": 15,
   "id": "4e647514",
   "metadata": {
    "execution": {
     "iopub.execute_input": "2022-11-28T00:44:03.689544Z",
     "iopub.status.busy": "2022-11-28T00:44:03.688822Z",
     "iopub.status.idle": "2022-11-28T00:44:03.697273Z",
     "shell.execute_reply": "2022-11-28T00:44:03.696298Z"
    },
    "papermill": {
     "duration": 0.023918,
     "end_time": "2022-11-28T00:44:03.699579",
     "exception": false,
     "start_time": "2022-11-28T00:44:03.675661",
     "status": "completed"
    },
    "tags": []
   },
   "outputs": [],
   "source": [
    "test['Sex_binary'] = test['Sex'].map(transform_sex)"
   ]
  },
  {
   "cell_type": "code",
   "execution_count": 16,
   "id": "9a0f1445",
   "metadata": {
    "execution": {
     "iopub.execute_input": "2022-11-28T00:44:03.724826Z",
     "iopub.status.busy": "2022-11-28T00:44:03.724410Z",
     "iopub.status.idle": "2022-11-28T00:44:03.741368Z",
     "shell.execute_reply": "2022-11-28T00:44:03.740216Z"
    },
    "papermill": {
     "duration": 0.032128,
     "end_time": "2022-11-28T00:44:03.743532",
     "exception": false,
     "start_time": "2022-11-28T00:44:03.711404",
     "status": "completed"
    },
    "tags": []
   },
   "outputs": [
    {
     "data": {
      "text/html": [
       "<div>\n",
       "<style scoped>\n",
       "    .dataframe tbody tr th:only-of-type {\n",
       "        vertical-align: middle;\n",
       "    }\n",
       "\n",
       "    .dataframe tbody tr th {\n",
       "        vertical-align: top;\n",
       "    }\n",
       "\n",
       "    .dataframe thead th {\n",
       "        text-align: right;\n",
       "    }\n",
       "</style>\n",
       "<table border=\"1\" class=\"dataframe\">\n",
       "  <thead>\n",
       "    <tr style=\"text-align: right;\">\n",
       "      <th></th>\n",
       "      <th>PassengerId</th>\n",
       "      <th>Pclass</th>\n",
       "      <th>Name</th>\n",
       "      <th>Sex</th>\n",
       "      <th>Age</th>\n",
       "      <th>SibSp</th>\n",
       "      <th>Parch</th>\n",
       "      <th>Ticket</th>\n",
       "      <th>Fare</th>\n",
       "      <th>Cabin</th>\n",
       "      <th>Embarked</th>\n",
       "      <th>Sex_binary</th>\n",
       "    </tr>\n",
       "  </thead>\n",
       "  <tbody>\n",
       "    <tr>\n",
       "      <th>0</th>\n",
       "      <td>892</td>\n",
       "      <td>3</td>\n",
       "      <td>Kelly, Mr. James</td>\n",
       "      <td>male</td>\n",
       "      <td>34.5</td>\n",
       "      <td>0</td>\n",
       "      <td>0</td>\n",
       "      <td>330911</td>\n",
       "      <td>7.8292</td>\n",
       "      <td>NaN</td>\n",
       "      <td>Q</td>\n",
       "      <td>0</td>\n",
       "    </tr>\n",
       "    <tr>\n",
       "      <th>1</th>\n",
       "      <td>893</td>\n",
       "      <td>3</td>\n",
       "      <td>Wilkes, Mrs. James (Ellen Needs)</td>\n",
       "      <td>female</td>\n",
       "      <td>47.0</td>\n",
       "      <td>1</td>\n",
       "      <td>0</td>\n",
       "      <td>363272</td>\n",
       "      <td>7.0000</td>\n",
       "      <td>NaN</td>\n",
       "      <td>S</td>\n",
       "      <td>1</td>\n",
       "    </tr>\n",
       "    <tr>\n",
       "      <th>2</th>\n",
       "      <td>894</td>\n",
       "      <td>2</td>\n",
       "      <td>Myles, Mr. Thomas Francis</td>\n",
       "      <td>male</td>\n",
       "      <td>62.0</td>\n",
       "      <td>0</td>\n",
       "      <td>0</td>\n",
       "      <td>240276</td>\n",
       "      <td>9.6875</td>\n",
       "      <td>NaN</td>\n",
       "      <td>Q</td>\n",
       "      <td>0</td>\n",
       "    </tr>\n",
       "    <tr>\n",
       "      <th>3</th>\n",
       "      <td>895</td>\n",
       "      <td>3</td>\n",
       "      <td>Wirz, Mr. Albert</td>\n",
       "      <td>male</td>\n",
       "      <td>27.0</td>\n",
       "      <td>0</td>\n",
       "      <td>0</td>\n",
       "      <td>315154</td>\n",
       "      <td>8.6625</td>\n",
       "      <td>NaN</td>\n",
       "      <td>S</td>\n",
       "      <td>0</td>\n",
       "    </tr>\n",
       "    <tr>\n",
       "      <th>4</th>\n",
       "      <td>896</td>\n",
       "      <td>3</td>\n",
       "      <td>Hirvonen, Mrs. Alexander (Helga E Lindqvist)</td>\n",
       "      <td>female</td>\n",
       "      <td>22.0</td>\n",
       "      <td>1</td>\n",
       "      <td>1</td>\n",
       "      <td>3101298</td>\n",
       "      <td>12.2875</td>\n",
       "      <td>NaN</td>\n",
       "      <td>S</td>\n",
       "      <td>1</td>\n",
       "    </tr>\n",
       "  </tbody>\n",
       "</table>\n",
       "</div>"
      ],
      "text/plain": [
       "   PassengerId  Pclass                                          Name     Sex  \\\n",
       "0          892       3                              Kelly, Mr. James    male   \n",
       "1          893       3              Wilkes, Mrs. James (Ellen Needs)  female   \n",
       "2          894       2                     Myles, Mr. Thomas Francis    male   \n",
       "3          895       3                              Wirz, Mr. Albert    male   \n",
       "4          896       3  Hirvonen, Mrs. Alexander (Helga E Lindqvist)  female   \n",
       "\n",
       "    Age  SibSp  Parch   Ticket     Fare Cabin Embarked  Sex_binary  \n",
       "0  34.5      0      0   330911   7.8292   NaN        Q           0  \n",
       "1  47.0      1      0   363272   7.0000   NaN        S           1  \n",
       "2  62.0      0      0   240276   9.6875   NaN        Q           0  \n",
       "3  27.0      0      0   315154   8.6625   NaN        S           0  \n",
       "4  22.0      1      1  3101298  12.2875   NaN        S           1  "
      ]
     },
     "execution_count": 16,
     "metadata": {},
     "output_type": "execute_result"
    }
   ],
   "source": [
    "test.head()"
   ]
  },
  {
   "cell_type": "markdown",
   "id": "cf1d1746",
   "metadata": {
    "papermill": {
     "duration": 0.011748,
     "end_time": "2022-11-28T00:44:03.767372",
     "exception": false,
     "start_time": "2022-11-28T00:44:03.755624",
     "status": "completed"
    },
    "tags": []
   },
   "source": [
    "### Creating x_predict and treat de null values"
   ]
  },
  {
   "cell_type": "code",
   "execution_count": 17,
   "id": "6e728c49",
   "metadata": {
    "execution": {
     "iopub.execute_input": "2022-11-28T00:44:03.793793Z",
     "iopub.status.busy": "2022-11-28T00:44:03.792762Z",
     "iopub.status.idle": "2022-11-28T00:44:03.804589Z",
     "shell.execute_reply": "2022-11-28T00:44:03.803512Z"
    },
    "papermill": {
     "duration": 0.027637,
     "end_time": "2022-11-28T00:44:03.806978",
     "exception": false,
     "start_time": "2022-11-28T00:44:03.779341",
     "status": "completed"
    },
    "tags": []
   },
   "outputs": [
    {
     "data": {
      "text/html": [
       "<div>\n",
       "<style scoped>\n",
       "    .dataframe tbody tr th:only-of-type {\n",
       "        vertical-align: middle;\n",
       "    }\n",
       "\n",
       "    .dataframe tbody tr th {\n",
       "        vertical-align: top;\n",
       "    }\n",
       "\n",
       "    .dataframe thead th {\n",
       "        text-align: right;\n",
       "    }\n",
       "</style>\n",
       "<table border=\"1\" class=\"dataframe\">\n",
       "  <thead>\n",
       "    <tr style=\"text-align: right;\">\n",
       "      <th></th>\n",
       "      <th>Sex_binary</th>\n",
       "      <th>Age</th>\n",
       "    </tr>\n",
       "  </thead>\n",
       "  <tbody>\n",
       "    <tr>\n",
       "      <th>0</th>\n",
       "      <td>0</td>\n",
       "      <td>34.5</td>\n",
       "    </tr>\n",
       "    <tr>\n",
       "      <th>1</th>\n",
       "      <td>1</td>\n",
       "      <td>47.0</td>\n",
       "    </tr>\n",
       "    <tr>\n",
       "      <th>2</th>\n",
       "      <td>0</td>\n",
       "      <td>62.0</td>\n",
       "    </tr>\n",
       "    <tr>\n",
       "      <th>3</th>\n",
       "      <td>0</td>\n",
       "      <td>27.0</td>\n",
       "    </tr>\n",
       "    <tr>\n",
       "      <th>4</th>\n",
       "      <td>1</td>\n",
       "      <td>22.0</td>\n",
       "    </tr>\n",
       "  </tbody>\n",
       "</table>\n",
       "</div>"
      ],
      "text/plain": [
       "   Sex_binary   Age\n",
       "0           0  34.5\n",
       "1           1  47.0\n",
       "2           0  62.0\n",
       "3           0  27.0\n",
       "4           1  22.0"
      ]
     },
     "execution_count": 17,
     "metadata": {},
     "output_type": "execute_result"
    }
   ],
   "source": [
    "x_predict= test[var]\n",
    "x_predict = x_predict.fillna(-1)\n",
    "x_predict.head()"
   ]
  },
  {
   "cell_type": "markdown",
   "id": "47f5413a",
   "metadata": {
    "papermill": {
     "duration": 0.012055,
     "end_time": "2022-11-28T00:44:03.831520",
     "exception": false,
     "start_time": "2022-11-28T00:44:03.819465",
     "status": "completed"
    },
    "tags": []
   },
   "source": [
    "### Applying method predict to the variables x_predict"
   ]
  },
  {
   "cell_type": "code",
   "execution_count": 18,
   "id": "120a38d0",
   "metadata": {
    "execution": {
     "iopub.execute_input": "2022-11-28T00:44:03.858429Z",
     "iopub.status.busy": "2022-11-28T00:44:03.857293Z",
     "iopub.status.idle": "2022-11-28T00:44:03.965977Z",
     "shell.execute_reply": "2022-11-28T00:44:03.964991Z"
    },
    "papermill": {
     "duration": 0.124642,
     "end_time": "2022-11-28T00:44:03.968547",
     "exception": false,
     "start_time": "2022-11-28T00:44:03.843905",
     "status": "completed"
    },
    "tags": []
   },
   "outputs": [],
   "source": [
    "p = model.predict(x_predict)"
   ]
  },
  {
   "cell_type": "markdown",
   "id": "cb71fe6a",
   "metadata": {
    "papermill": {
     "duration": 0.011849,
     "end_time": "2022-11-28T00:44:03.993030",
     "exception": false,
     "start_time": "2022-11-28T00:44:03.981181",
     "status": "completed"
    },
    "tags": []
   },
   "source": [
    "### The array p is showing who survived and who doesn't - our prediction"
   ]
  },
  {
   "cell_type": "code",
   "execution_count": 19,
   "id": "7273bf63",
   "metadata": {
    "execution": {
     "iopub.execute_input": "2022-11-28T00:44:04.019430Z",
     "iopub.status.busy": "2022-11-28T00:44:04.018448Z",
     "iopub.status.idle": "2022-11-28T00:44:04.025501Z",
     "shell.execute_reply": "2022-11-28T00:44:04.024444Z"
    },
    "papermill": {
     "duration": 0.022579,
     "end_time": "2022-11-28T00:44:04.027797",
     "exception": false,
     "start_time": "2022-11-28T00:44:04.005218",
     "status": "completed"
    },
    "tags": []
   },
   "outputs": [
    {
     "data": {
      "text/plain": [
       "array([0, 1, 0, 1, 1, 0, 1, 0, 1, 0, 0, 0, 1, 0, 1, 1, 0, 0, 1, 0, 0, 1,\n",
       "       1, 0, 1, 0, 1, 0, 0, 0, 0, 0, 1, 1, 0, 0, 1, 1, 0, 0, 0, 0, 0, 1,\n",
       "       0, 0, 0, 0, 1, 1, 0, 1, 0, 1, 0, 0, 0, 0, 0, 1, 0, 0, 0, 1, 1, 1,\n",
       "       1, 0, 0, 1, 1, 0, 1, 0, 1, 0, 0, 1, 0, 1, 1, 0, 1, 0, 0, 0, 1, 1,\n",
       "       1, 0, 1, 0, 1, 0, 0, 0, 1, 0, 0, 0, 1, 1, 0, 0, 1, 0, 0, 0, 0, 0,\n",
       "       0, 1, 1, 1, 1, 0, 0, 1, 0, 1, 0, 0, 1, 0, 0, 1, 0, 1, 0, 0, 0, 0,\n",
       "       1, 0, 0, 0, 0, 0, 1, 0, 0, 1, 0, 0, 0, 0, 0, 0, 0, 0, 1, 0, 0, 1,\n",
       "       1, 0, 1, 1, 0, 1, 1, 0, 1, 0, 0, 1, 1, 0, 1, 1, 0, 1, 0, 0, 0, 1,\n",
       "       0, 0, 1, 1, 0, 0, 1, 0, 1, 0, 1, 0, 1, 0, 0, 0, 0, 0, 0, 0, 1, 1,\n",
       "       0, 1, 1, 1, 0, 1, 0, 0, 1, 0, 1, 0, 0, 0, 0, 1, 1, 0, 1, 0, 1, 0,\n",
       "       1, 0, 1, 0, 1, 1, 0, 1, 0, 0, 0, 1, 0, 0, 0, 0, 0, 0, 1, 1, 1, 0,\n",
       "       0, 0, 0, 0, 1, 0, 1, 1, 1, 0, 1, 0, 0, 0, 0, 0, 1, 0, 0, 0, 1, 1,\n",
       "       0, 0, 0, 0, 1, 0, 0, 0, 1, 1, 0, 0, 0, 0, 0, 0, 1, 1, 1, 0, 0, 0,\n",
       "       0, 0, 0, 0, 0, 1, 0, 0, 0, 0, 1, 0, 0, 0, 0, 0, 0, 0, 1, 1, 0, 1,\n",
       "       0, 0, 0, 0, 0, 0, 1, 1, 0, 0, 1, 0, 0, 0, 0, 0, 1, 0, 0, 0, 0, 0,\n",
       "       1, 0, 0, 1, 1, 0, 0, 0, 0, 0, 0, 0, 0, 1, 0, 1, 0, 1, 0, 1, 0, 0,\n",
       "       0, 1, 1, 0, 1, 0, 0, 1, 0, 1, 1, 1, 0, 1, 0, 1, 0, 0, 0, 1, 1, 0,\n",
       "       1, 0, 1, 0, 0, 0, 0, 0, 1, 1, 0, 1, 0, 0, 0, 1, 0, 1, 1, 0, 0, 1,\n",
       "       0, 1, 0, 0, 1, 0, 1, 0, 0, 0, 0, 0, 1, 0, 1, 0, 1, 0, 1, 0, 0, 0])"
      ]
     },
     "execution_count": 19,
     "metadata": {},
     "output_type": "execute_result"
    }
   ],
   "source": [
    "p"
   ]
  },
  {
   "cell_type": "markdown",
   "id": "36f9f4f0",
   "metadata": {
    "papermill": {
     "duration": 0.012251,
     "end_time": "2022-11-28T00:44:04.052745",
     "exception": false,
     "start_time": "2022-11-28T00:44:04.040494",
     "status": "completed"
    },
    "tags": []
   },
   "source": [
    "### Creating df sub to submit to analyse into kaggle. But, we need to match the order and index to our df, but we need to change the PassengerId name to Survived"
   ]
  },
  {
   "cell_type": "code",
   "execution_count": 20,
   "id": "708f97af",
   "metadata": {
    "execution": {
     "iopub.execute_input": "2022-11-28T00:44:04.079032Z",
     "iopub.status.busy": "2022-11-28T00:44:04.078608Z",
     "iopub.status.idle": "2022-11-28T00:44:04.086949Z",
     "shell.execute_reply": "2022-11-28T00:44:04.085760Z"
    },
    "papermill": {
     "duration": 0.024068,
     "end_time": "2022-11-28T00:44:04.089192",
     "exception": false,
     "start_time": "2022-11-28T00:44:04.065124",
     "status": "completed"
    },
    "tags": []
   },
   "outputs": [
    {
     "data": {
      "text/plain": [
       "(418,)"
      ]
     },
     "execution_count": 20,
     "metadata": {},
     "output_type": "execute_result"
    }
   ],
   "source": [
    "sub = pd.Series(p, index=test['PassengerId'], name='Survived')\n",
    "\n",
    "sub.shape"
   ]
  },
  {
   "cell_type": "markdown",
   "id": "0d305bd0",
   "metadata": {
    "papermill": {
     "duration": 0.012055,
     "end_time": "2022-11-28T00:44:04.113734",
     "exception": false,
     "start_time": "2022-11-28T00:44:04.101679",
     "status": "completed"
    },
    "tags": []
   },
   "source": [
    "### Convert to_csv"
   ]
  },
  {
   "cell_type": "code",
   "execution_count": 21,
   "id": "f494a021",
   "metadata": {
    "execution": {
     "iopub.execute_input": "2022-11-28T00:44:04.140538Z",
     "iopub.status.busy": "2022-11-28T00:44:04.139411Z",
     "iopub.status.idle": "2022-11-28T00:44:04.148271Z",
     "shell.execute_reply": "2022-11-28T00:44:04.147454Z"
    },
    "papermill": {
     "duration": 0.024518,
     "end_time": "2022-11-28T00:44:04.150529",
     "exception": false,
     "start_time": "2022-11-28T00:44:04.126011",
     "status": "completed"
    },
    "tags": []
   },
   "outputs": [],
   "source": [
    "sub.to_csv('first_model.csv', header=True)"
   ]
  },
  {
   "cell_type": "markdown",
   "id": "515a8160",
   "metadata": {
    "papermill": {
     "duration": 0.011962,
     "end_time": "2022-11-28T00:44:04.174826",
     "exception": false,
     "start_time": "2022-11-28T00:44:04.162864",
     "status": "completed"
    },
    "tags": []
   },
   "source": [
    "### Check the first 10 lines first_model.csv"
   ]
  },
  {
   "cell_type": "code",
   "execution_count": 22,
   "id": "088abb9e",
   "metadata": {
    "execution": {
     "iopub.execute_input": "2022-11-28T00:44:04.201690Z",
     "iopub.status.busy": "2022-11-28T00:44:04.200499Z",
     "iopub.status.idle": "2022-11-28T00:44:05.233573Z",
     "shell.execute_reply": "2022-11-28T00:44:05.232311Z"
    },
    "papermill": {
     "duration": 1.049289,
     "end_time": "2022-11-28T00:44:05.236329",
     "exception": false,
     "start_time": "2022-11-28T00:44:04.187040",
     "status": "completed"
    },
    "tags": []
   },
   "outputs": [
    {
     "name": "stdout",
     "output_type": "stream",
     "text": [
      "PassengerId,Survived\r\n",
      "892,0\r\n",
      "893,1\r\n",
      "894,0\r\n",
      "895,1\r\n",
      "896,1\r\n",
      "897,0\r\n",
      "898,1\r\n",
      "899,0\r\n",
      "900,1\r\n"
     ]
    }
   ],
   "source": [
    "!head -10 first_model.csv"
   ]
  },
  {
   "cell_type": "markdown",
   "id": "3758ff3e",
   "metadata": {
    "papermill": {
     "duration": 0.012225,
     "end_time": "2022-11-28T00:44:05.260927",
     "exception": false,
     "start_time": "2022-11-28T00:44:05.248702",
     "status": "completed"
    },
    "tags": []
   },
   "source": [
    "1. Trainnig\n",
    "2. Validation\n",
    "3. Test"
   ]
  },
  {
   "cell_type": "code",
   "execution_count": 23,
   "id": "5541960b",
   "metadata": {
    "execution": {
     "iopub.execute_input": "2022-11-28T00:44:05.287207Z",
     "iopub.status.busy": "2022-11-28T00:44:05.286752Z",
     "iopub.status.idle": "2022-11-28T00:44:05.294822Z",
     "shell.execute_reply": "2022-11-28T00:44:05.293789Z"
    },
    "papermill": {
     "duration": 0.023868,
     "end_time": "2022-11-28T00:44:05.296956",
     "exception": false,
     "start_time": "2022-11-28T00:44:05.273088",
     "status": "completed"
    },
    "tags": []
   },
   "outputs": [],
   "source": [
    "np.random.seed(0)\n",
    "X_train, X_valid, y_train, y_valid = train_test_split(X, y, test_size=0.5)"
   ]
  },
  {
   "cell_type": "code",
   "execution_count": 24,
   "id": "c045ee6f",
   "metadata": {
    "execution": {
     "iopub.execute_input": "2022-11-28T00:44:05.324097Z",
     "iopub.status.busy": "2022-11-28T00:44:05.323142Z",
     "iopub.status.idle": "2022-11-28T00:44:05.333601Z",
     "shell.execute_reply": "2022-11-28T00:44:05.332881Z"
    },
    "papermill": {
     "duration": 0.025844,
     "end_time": "2022-11-28T00:44:05.335559",
     "exception": false,
     "start_time": "2022-11-28T00:44:05.309715",
     "status": "completed"
    },
    "tags": []
   },
   "outputs": [
    {
     "data": {
      "text/html": [
       "<div>\n",
       "<style scoped>\n",
       "    .dataframe tbody tr th:only-of-type {\n",
       "        vertical-align: middle;\n",
       "    }\n",
       "\n",
       "    .dataframe tbody tr th {\n",
       "        vertical-align: top;\n",
       "    }\n",
       "\n",
       "    .dataframe thead th {\n",
       "        text-align: right;\n",
       "    }\n",
       "</style>\n",
       "<table border=\"1\" class=\"dataframe\">\n",
       "  <thead>\n",
       "    <tr style=\"text-align: right;\">\n",
       "      <th></th>\n",
       "      <th>Sex_binary</th>\n",
       "      <th>Age</th>\n",
       "    </tr>\n",
       "  </thead>\n",
       "  <tbody>\n",
       "    <tr>\n",
       "      <th>213</th>\n",
       "      <td>0</td>\n",
       "      <td>30.0</td>\n",
       "    </tr>\n",
       "    <tr>\n",
       "      <th>586</th>\n",
       "      <td>0</td>\n",
       "      <td>47.0</td>\n",
       "    </tr>\n",
       "    <tr>\n",
       "      <th>499</th>\n",
       "      <td>0</td>\n",
       "      <td>24.0</td>\n",
       "    </tr>\n",
       "    <tr>\n",
       "      <th>821</th>\n",
       "      <td>0</td>\n",
       "      <td>27.0</td>\n",
       "    </tr>\n",
       "    <tr>\n",
       "      <th>246</th>\n",
       "      <td>1</td>\n",
       "      <td>25.0</td>\n",
       "    </tr>\n",
       "  </tbody>\n",
       "</table>\n",
       "</div>"
      ],
      "text/plain": [
       "     Sex_binary   Age\n",
       "213           0  30.0\n",
       "586           0  47.0\n",
       "499           0  24.0\n",
       "821           0  27.0\n",
       "246           1  25.0"
      ]
     },
     "execution_count": 24,
     "metadata": {},
     "output_type": "execute_result"
    }
   ],
   "source": [
    "X_train.head()"
   ]
  },
  {
   "cell_type": "markdown",
   "id": "7146e6f9",
   "metadata": {
    "papermill": {
     "duration": 0.012337,
     "end_time": "2022-11-28T00:44:05.360537",
     "exception": false,
     "start_time": "2022-11-28T00:44:05.348200",
     "status": "completed"
    },
    "tags": []
   },
   "source": [
    "### Creating new datasets by split the data to trainning our model."
   ]
  },
  {
   "cell_type": "code",
   "execution_count": 25,
   "id": "e79153f3",
   "metadata": {
    "execution": {
     "iopub.execute_input": "2022-11-28T00:44:05.387777Z",
     "iopub.status.busy": "2022-11-28T00:44:05.386795Z",
     "iopub.status.idle": "2022-11-28T00:44:05.393759Z",
     "shell.execute_reply": "2022-11-28T00:44:05.392635Z"
    },
    "papermill": {
     "duration": 0.022991,
     "end_time": "2022-11-28T00:44:05.396056",
     "exception": false,
     "start_time": "2022-11-28T00:44:05.373065",
     "status": "completed"
    },
    "tags": []
   },
   "outputs": [
    {
     "data": {
      "text/plain": [
       "((445, 2), (446, 2), (445,), (446,))"
      ]
     },
     "execution_count": 25,
     "metadata": {},
     "output_type": "execute_result"
    }
   ],
   "source": [
    "X_train.shape, X_valid.shape, y_train.shape, y_valid.shape"
   ]
  },
  {
   "cell_type": "code",
   "execution_count": 26,
   "id": "a5af77c2",
   "metadata": {
    "execution": {
     "iopub.execute_input": "2022-11-28T00:44:05.422597Z",
     "iopub.status.busy": "2022-11-28T00:44:05.422254Z",
     "iopub.status.idle": "2022-11-28T00:44:05.678118Z",
     "shell.execute_reply": "2022-11-28T00:44:05.676889Z"
    },
    "papermill": {
     "duration": 0.271767,
     "end_time": "2022-11-28T00:44:05.680394",
     "exception": false,
     "start_time": "2022-11-28T00:44:05.408627",
     "status": "completed"
    },
    "tags": []
   },
   "outputs": [
    {
     "data": {
      "text/plain": [
       "RandomForestClassifier(n_jobs=-1, random_state=0)"
      ]
     },
     "execution_count": 26,
     "metadata": {},
     "output_type": "execute_result"
    }
   ],
   "source": [
    "model.fit(X_train, y_train)"
   ]
  },
  {
   "cell_type": "code",
   "execution_count": 27,
   "id": "a68dac98",
   "metadata": {
    "execution": {
     "iopub.execute_input": "2022-11-28T00:44:05.707789Z",
     "iopub.status.busy": "2022-11-28T00:44:05.707094Z",
     "iopub.status.idle": "2022-11-28T00:44:05.815624Z",
     "shell.execute_reply": "2022-11-28T00:44:05.814398Z"
    },
    "papermill": {
     "duration": 0.124901,
     "end_time": "2022-11-28T00:44:05.818167",
     "exception": false,
     "start_time": "2022-11-28T00:44:05.693266",
     "status": "completed"
    },
    "tags": []
   },
   "outputs": [],
   "source": [
    "p = model.predict(X_valid)"
   ]
  },
  {
   "cell_type": "markdown",
   "id": "fc265e43",
   "metadata": {
    "papermill": {
     "duration": 0.012395,
     "end_time": "2022-11-28T00:44:05.843413",
     "exception": false,
     "start_time": "2022-11-28T00:44:05.831018",
     "status": "completed"
    },
    "tags": []
   },
   "source": [
    "### Validated the data"
   ]
  },
  {
   "cell_type": "code",
   "execution_count": 28,
   "id": "b45a0640",
   "metadata": {
    "execution": {
     "iopub.execute_input": "2022-11-28T00:44:05.871143Z",
     "iopub.status.busy": "2022-11-28T00:44:05.870099Z",
     "iopub.status.idle": "2022-11-28T00:44:05.878654Z",
     "shell.execute_reply": "2022-11-28T00:44:05.877861Z"
    },
    "papermill": {
     "duration": 0.025046,
     "end_time": "2022-11-28T00:44:05.881187",
     "exception": false,
     "start_time": "2022-11-28T00:44:05.856141",
     "status": "completed"
    },
    "tags": []
   },
   "outputs": [
    {
     "data": {
      "text/plain": [
       "495     True\n",
       "648     True\n",
       "278    False\n",
       "31      True\n",
       "255     True\n",
       "       ...  \n",
       "327     True\n",
       "827     True\n",
       "102     True\n",
       "625     True\n",
       "108     True\n",
       "Name: Survived, Length: 446, dtype: bool"
      ]
     },
     "execution_count": 28,
     "metadata": {},
     "output_type": "execute_result"
    }
   ],
   "source": [
    "y_valid == p"
   ]
  },
  {
   "cell_type": "markdown",
   "id": "f9907961",
   "metadata": {
    "papermill": {
     "duration": 0.012473,
     "end_time": "2022-11-28T00:44:05.906640",
     "exception": false,
     "start_time": "2022-11-28T00:44:05.894167",
     "status": "completed"
    },
    "tags": []
   },
   "source": [
    "### Check the accuracy"
   ]
  },
  {
   "cell_type": "code",
   "execution_count": 29,
   "id": "5a662fdd",
   "metadata": {
    "execution": {
     "iopub.execute_input": "2022-11-28T00:44:05.934631Z",
     "iopub.status.busy": "2022-11-28T00:44:05.933501Z",
     "iopub.status.idle": "2022-11-28T00:44:05.941398Z",
     "shell.execute_reply": "2022-11-28T00:44:05.940564Z"
    },
    "papermill": {
     "duration": 0.023934,
     "end_time": "2022-11-28T00:44:05.943490",
     "exception": false,
     "start_time": "2022-11-28T00:44:05.919556",
     "status": "completed"
    },
    "tags": []
   },
   "outputs": [
    {
     "data": {
      "text/plain": [
       "0.7690582959641256"
      ]
     },
     "execution_count": 29,
     "metadata": {},
     "output_type": "execute_result"
    }
   ],
   "source": [
    "np.mean(y_valid == p)"
   ]
  },
  {
   "cell_type": "code",
   "execution_count": null,
   "id": "cf3ac366",
   "metadata": {
    "papermill": {
     "duration": 0.012612,
     "end_time": "2022-11-28T00:44:05.968917",
     "exception": false,
     "start_time": "2022-11-28T00:44:05.956305",
     "status": "completed"
    },
    "tags": []
   },
   "outputs": [],
   "source": []
  }
 ],
 "metadata": {
  "kernelspec": {
   "display_name": "Python 3",
   "language": "python",
   "name": "python3"
  },
  "language_info": {
   "codemirror_mode": {
    "name": "ipython",
    "version": 3
   },
   "file_extension": ".py",
   "mimetype": "text/x-python",
   "name": "python",
   "nbconvert_exporter": "python",
   "pygments_lexer": "ipython3",
   "version": "3.7.12"
  },
  "papermill": {
   "default_parameters": {},
   "duration": 13.523656,
   "end_time": "2022-11-28T00:44:06.703191",
   "environment_variables": {},
   "exception": null,
   "input_path": "__notebook__.ipynb",
   "output_path": "__notebook__.ipynb",
   "parameters": {},
   "start_time": "2022-11-28T00:43:53.179535",
   "version": "2.3.4"
  }
 },
 "nbformat": 4,
 "nbformat_minor": 5
}
