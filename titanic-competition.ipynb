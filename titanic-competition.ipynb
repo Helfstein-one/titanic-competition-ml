{
 "cells": [
  {
   "cell_type": "markdown",
   "id": "ee19ab9a",
   "metadata": {
    "papermill": {
     "duration": 0.007592,
     "end_time": "2022-11-27T13:35:18.491613",
     "exception": false,
     "start_time": "2022-11-27T13:35:18.484021",
     "status": "completed"
    },
    "tags": []
   },
   "source": [
    "# Titanic Competition - Machine Learning from Disaster"
   ]
  },
  {
   "cell_type": "markdown",
   "id": "ac1abf70",
   "metadata": {
    "papermill": {
     "duration": 0.006404,
     "end_time": "2022-11-27T13:35:18.505020",
     "exception": false,
     "start_time": "2022-11-27T13:35:18.498616",
     "status": "completed"
    },
    "tags": []
   },
   "source": [
    "![image](https://cdn.activestate.com/wp-content/uploads/2021/05/kaggle-titanic-challenge.jpg)"
   ]
  },
  {
   "cell_type": "markdown",
   "id": "7f9c929c",
   "metadata": {
    "papermill": {
     "duration": 0.007469,
     "end_time": "2022-11-27T13:35:18.519096",
     "exception": false,
     "start_time": "2022-11-27T13:35:18.511627",
     "status": "completed"
    },
    "tags": []
   },
   "source": [
    "### Import RandomForestClassifier as our predict model."
   ]
  },
  {
   "cell_type": "code",
   "execution_count": 1,
   "id": "00bce459",
   "metadata": {
    "execution": {
     "iopub.execute_input": "2022-11-27T13:35:18.537190Z",
     "iopub.status.busy": "2022-11-27T13:35:18.536631Z",
     "iopub.status.idle": "2022-11-27T13:35:19.805590Z",
     "shell.execute_reply": "2022-11-27T13:35:19.804138Z"
    },
    "papermill": {
     "duration": 1.280222,
     "end_time": "2022-11-27T13:35:19.808084",
     "exception": false,
     "start_time": "2022-11-27T13:35:18.527862",
     "status": "completed"
    },
    "tags": []
   },
   "outputs": [
    {
     "name": "stdout",
     "output_type": "stream",
     "text": [
      "Imports successfully loaded\n"
     ]
    }
   ],
   "source": [
    "from sklearn.ensemble import RandomForestClassifier\n",
    "import numpy as np \n",
    "import pandas as pd \n",
    "import os\n",
    "\n",
    "\n",
    "print(f'Imports successfully loaded')"
   ]
  },
  {
   "cell_type": "code",
   "execution_count": 2,
   "id": "c25a8f38",
   "metadata": {
    "execution": {
     "iopub.execute_input": "2022-11-27T13:35:19.825747Z",
     "iopub.status.busy": "2022-11-27T13:35:19.825400Z",
     "iopub.status.idle": "2022-11-27T13:35:19.831647Z",
     "shell.execute_reply": "2022-11-27T13:35:19.830918Z"
    },
    "papermill": {
     "duration": 0.01703,
     "end_time": "2022-11-27T13:35:19.833888",
     "exception": false,
     "start_time": "2022-11-27T13:35:19.816858",
     "status": "completed"
    },
    "tags": []
   },
   "outputs": [
    {
     "name": "stdout",
     "output_type": "stream",
     "text": [
      "/kaggle/input/titanic/train.csv\n",
      "/kaggle/input/titanic/test.csv\n",
      "/kaggle/input/titanic/gender_submission.csv\n"
     ]
    }
   ],
   "source": [
    "for dirname, _, filenames in os.walk('/kaggle/input'):\n",
    "    for filename in filenames:\n",
    "        print(os.path.join(dirname, filename))"
   ]
  },
  {
   "cell_type": "markdown",
   "id": "ecac19b0",
   "metadata": {
    "papermill": {
     "duration": 0.007304,
     "end_time": "2022-11-27T13:35:19.850615",
     "exception": false,
     "start_time": "2022-11-27T13:35:19.843311",
     "status": "completed"
    },
    "tags": []
   },
   "source": [
    "#### Imports DataFrame \n",
    "- gender_submission\n",
    "- test\n",
    "- train"
   ]
  },
  {
   "cell_type": "code",
   "execution_count": 3,
   "id": "8d98a099",
   "metadata": {
    "execution": {
     "iopub.execute_input": "2022-11-27T13:35:19.868975Z",
     "iopub.status.busy": "2022-11-27T13:35:19.868303Z",
     "iopub.status.idle": "2022-11-27T13:35:19.909084Z",
     "shell.execute_reply": "2022-11-27T13:35:19.908195Z"
    },
    "papermill": {
     "duration": 0.053687,
     "end_time": "2022-11-27T13:35:19.911858",
     "exception": false,
     "start_time": "2022-11-27T13:35:19.858171",
     "status": "completed"
    },
    "tags": []
   },
   "outputs": [
    {
     "name": "stdout",
     "output_type": "stream",
     "text": [
      "Dataframes successfully converted\n"
     ]
    }
   ],
   "source": [
    "train = pd.read_csv(\"../input/titanic/train.csv\")\n",
    "test = pd.read_csv(\"../input/titanic/test.csv\")\n",
    "gender_submission = pd.read_csv(\"../input/titanic/gender_submission.csv\")\n",
    "\n",
    "print(f'Dataframes successfully converted')"
   ]
  },
  {
   "cell_type": "markdown",
   "id": "a79ecdfd",
   "metadata": {
    "papermill": {
     "duration": 0.006993,
     "end_time": "2022-11-27T13:35:19.927928",
     "exception": false,
     "start_time": "2022-11-27T13:35:19.920935",
     "status": "completed"
    },
    "tags": []
   },
   "source": [
    "\n",
    "### Analyzing training data"
   ]
  },
  {
   "cell_type": "code",
   "execution_count": 4,
   "id": "2be936c5",
   "metadata": {
    "execution": {
     "iopub.execute_input": "2022-11-27T13:35:19.944986Z",
     "iopub.status.busy": "2022-11-27T13:35:19.943552Z",
     "iopub.status.idle": "2022-11-27T13:35:19.968644Z",
     "shell.execute_reply": "2022-11-27T13:35:19.967683Z"
    },
    "papermill": {
     "duration": 0.035158,
     "end_time": "2022-11-27T13:35:19.970292",
     "exception": false,
     "start_time": "2022-11-27T13:35:19.935134",
     "status": "completed"
    },
    "tags": []
   },
   "outputs": [
    {
     "data": {
      "text/html": [
       "<div>\n",
       "<style scoped>\n",
       "    .dataframe tbody tr th:only-of-type {\n",
       "        vertical-align: middle;\n",
       "    }\n",
       "\n",
       "    .dataframe tbody tr th {\n",
       "        vertical-align: top;\n",
       "    }\n",
       "\n",
       "    .dataframe thead th {\n",
       "        text-align: right;\n",
       "    }\n",
       "</style>\n",
       "<table border=\"1\" class=\"dataframe\">\n",
       "  <thead>\n",
       "    <tr style=\"text-align: right;\">\n",
       "      <th></th>\n",
       "      <th>PassengerId</th>\n",
       "      <th>Survived</th>\n",
       "      <th>Pclass</th>\n",
       "      <th>Name</th>\n",
       "      <th>Sex</th>\n",
       "      <th>Age</th>\n",
       "      <th>SibSp</th>\n",
       "      <th>Parch</th>\n",
       "      <th>Ticket</th>\n",
       "      <th>Fare</th>\n",
       "      <th>Cabin</th>\n",
       "      <th>Embarked</th>\n",
       "    </tr>\n",
       "  </thead>\n",
       "  <tbody>\n",
       "    <tr>\n",
       "      <th>0</th>\n",
       "      <td>1</td>\n",
       "      <td>0</td>\n",
       "      <td>3</td>\n",
       "      <td>Braund, Mr. Owen Harris</td>\n",
       "      <td>male</td>\n",
       "      <td>22.0</td>\n",
       "      <td>1</td>\n",
       "      <td>0</td>\n",
       "      <td>A/5 21171</td>\n",
       "      <td>7.2500</td>\n",
       "      <td>NaN</td>\n",
       "      <td>S</td>\n",
       "    </tr>\n",
       "    <tr>\n",
       "      <th>1</th>\n",
       "      <td>2</td>\n",
       "      <td>1</td>\n",
       "      <td>1</td>\n",
       "      <td>Cumings, Mrs. John Bradley (Florence Briggs Th...</td>\n",
       "      <td>female</td>\n",
       "      <td>38.0</td>\n",
       "      <td>1</td>\n",
       "      <td>0</td>\n",
       "      <td>PC 17599</td>\n",
       "      <td>71.2833</td>\n",
       "      <td>C85</td>\n",
       "      <td>C</td>\n",
       "    </tr>\n",
       "    <tr>\n",
       "      <th>2</th>\n",
       "      <td>3</td>\n",
       "      <td>1</td>\n",
       "      <td>3</td>\n",
       "      <td>Heikkinen, Miss. Laina</td>\n",
       "      <td>female</td>\n",
       "      <td>26.0</td>\n",
       "      <td>0</td>\n",
       "      <td>0</td>\n",
       "      <td>STON/O2. 3101282</td>\n",
       "      <td>7.9250</td>\n",
       "      <td>NaN</td>\n",
       "      <td>S</td>\n",
       "    </tr>\n",
       "    <tr>\n",
       "      <th>3</th>\n",
       "      <td>4</td>\n",
       "      <td>1</td>\n",
       "      <td>1</td>\n",
       "      <td>Futrelle, Mrs. Jacques Heath (Lily May Peel)</td>\n",
       "      <td>female</td>\n",
       "      <td>35.0</td>\n",
       "      <td>1</td>\n",
       "      <td>0</td>\n",
       "      <td>113803</td>\n",
       "      <td>53.1000</td>\n",
       "      <td>C123</td>\n",
       "      <td>S</td>\n",
       "    </tr>\n",
       "    <tr>\n",
       "      <th>4</th>\n",
       "      <td>5</td>\n",
       "      <td>0</td>\n",
       "      <td>3</td>\n",
       "      <td>Allen, Mr. William Henry</td>\n",
       "      <td>male</td>\n",
       "      <td>35.0</td>\n",
       "      <td>0</td>\n",
       "      <td>0</td>\n",
       "      <td>373450</td>\n",
       "      <td>8.0500</td>\n",
       "      <td>NaN</td>\n",
       "      <td>S</td>\n",
       "    </tr>\n",
       "  </tbody>\n",
       "</table>\n",
       "</div>"
      ],
      "text/plain": [
       "   PassengerId  Survived  Pclass  \\\n",
       "0            1         0       3   \n",
       "1            2         1       1   \n",
       "2            3         1       3   \n",
       "3            4         1       1   \n",
       "4            5         0       3   \n",
       "\n",
       "                                                Name     Sex   Age  SibSp  \\\n",
       "0                            Braund, Mr. Owen Harris    male  22.0      1   \n",
       "1  Cumings, Mrs. John Bradley (Florence Briggs Th...  female  38.0      1   \n",
       "2                             Heikkinen, Miss. Laina  female  26.0      0   \n",
       "3       Futrelle, Mrs. Jacques Heath (Lily May Peel)  female  35.0      1   \n",
       "4                           Allen, Mr. William Henry    male  35.0      0   \n",
       "\n",
       "   Parch            Ticket     Fare Cabin Embarked  \n",
       "0      0         A/5 21171   7.2500   NaN        S  \n",
       "1      0          PC 17599  71.2833   C85        C  \n",
       "2      0  STON/O2. 3101282   7.9250   NaN        S  \n",
       "3      0            113803  53.1000  C123        S  \n",
       "4      0            373450   8.0500   NaN        S  "
      ]
     },
     "execution_count": 4,
     "metadata": {},
     "output_type": "execute_result"
    }
   ],
   "source": [
    "train.head()"
   ]
  },
  {
   "cell_type": "markdown",
   "id": "f0c91046",
   "metadata": {
    "papermill": {
     "duration": 0.00717,
     "end_time": "2022-11-27T13:35:19.985113",
     "exception": false,
     "start_time": "2022-11-27T13:35:19.977943",
     "status": "completed"
    },
    "tags": []
   },
   "source": [
    "### Creating Model e using RandomForest"
   ]
  },
  {
   "cell_type": "code",
   "execution_count": 5,
   "id": "0ff9df0d",
   "metadata": {
    "execution": {
     "iopub.execute_input": "2022-11-27T13:35:20.003881Z",
     "iopub.status.busy": "2022-11-27T13:35:20.003160Z",
     "iopub.status.idle": "2022-11-27T13:35:20.009125Z",
     "shell.execute_reply": "2022-11-27T13:35:20.007370Z"
    },
    "papermill": {
     "duration": 0.018444,
     "end_time": "2022-11-27T13:35:20.011908",
     "exception": false,
     "start_time": "2022-11-27T13:35:19.993464",
     "status": "completed"
    },
    "tags": []
   },
   "outputs": [
    {
     "name": "stdout",
     "output_type": "stream",
     "text": [
      "Modal successfully set\n"
     ]
    }
   ],
   "source": [
    "model = RandomForestClassifier(n_estimators=100, n_jobs=-1, random_state=0)\n",
    "\n",
    "print(f'Modal successfully set')"
   ]
  },
  {
   "cell_type": "markdown",
   "id": "72e82eca",
   "metadata": {
    "papermill": {
     "duration": 0.008012,
     "end_time": "2022-11-27T13:35:20.028496",
     "exception": false,
     "start_time": "2022-11-27T13:35:20.020484",
     "status": "completed"
    },
    "tags": []
   },
   "source": [
    "### Fuction to create binary values for sex"
   ]
  },
  {
   "cell_type": "code",
   "execution_count": 6,
   "id": "9e8e7611",
   "metadata": {
    "execution": {
     "iopub.execute_input": "2022-11-27T13:35:20.046937Z",
     "iopub.status.busy": "2022-11-27T13:35:20.046645Z",
     "iopub.status.idle": "2022-11-27T13:35:20.051722Z",
     "shell.execute_reply": "2022-11-27T13:35:20.050270Z"
    },
    "papermill": {
     "duration": 0.016118,
     "end_time": "2022-11-27T13:35:20.053874",
     "exception": false,
     "start_time": "2022-11-27T13:35:20.037756",
     "status": "completed"
    },
    "tags": []
   },
   "outputs": [],
   "source": [
    "def transform_sex(value):\n",
    "    if value == 'female':\n",
    "        return 1\n",
    "    else:\n",
    "        return 0"
   ]
  },
  {
   "cell_type": "markdown",
   "id": "8a779d6c",
   "metadata": {
    "papermill": {
     "duration": 0.007236,
     "end_time": "2022-11-27T13:35:20.068793",
     "exception": false,
     "start_time": "2022-11-27T13:35:20.061557",
     "status": "completed"
    },
    "tags": []
   },
   "source": [
    "### Creating a new column applying the function transform_sex"
   ]
  },
  {
   "cell_type": "code",
   "execution_count": 7,
   "id": "d00ebbac",
   "metadata": {
    "execution": {
     "iopub.execute_input": "2022-11-27T13:35:20.086131Z",
     "iopub.status.busy": "2022-11-27T13:35:20.085403Z",
     "iopub.status.idle": "2022-11-27T13:35:20.094763Z",
     "shell.execute_reply": "2022-11-27T13:35:20.093614Z"
    },
    "papermill": {
     "duration": 0.021021,
     "end_time": "2022-11-27T13:35:20.097366",
     "exception": false,
     "start_time": "2022-11-27T13:35:20.076345",
     "status": "completed"
    },
    "tags": []
   },
   "outputs": [],
   "source": [
    "train['Sex_binary'] = train['Sex'].map(transform_sex)"
   ]
  },
  {
   "cell_type": "markdown",
   "id": "4b9009b4",
   "metadata": {
    "papermill": {
     "duration": 0.007425,
     "end_time": "2022-11-27T13:35:20.113098",
     "exception": false,
     "start_time": "2022-11-27T13:35:20.105673",
     "status": "completed"
    },
    "tags": []
   },
   "source": [
    "### Check the new column sex_binary"
   ]
  },
  {
   "cell_type": "code",
   "execution_count": 8,
   "id": "708eaa1d",
   "metadata": {
    "execution": {
     "iopub.execute_input": "2022-11-27T13:35:20.130035Z",
     "iopub.status.busy": "2022-11-27T13:35:20.129690Z",
     "iopub.status.idle": "2022-11-27T13:35:20.144692Z",
     "shell.execute_reply": "2022-11-27T13:35:20.143465Z"
    },
    "papermill": {
     "duration": 0.025963,
     "end_time": "2022-11-27T13:35:20.146904",
     "exception": false,
     "start_time": "2022-11-27T13:35:20.120941",
     "status": "completed"
    },
    "tags": []
   },
   "outputs": [
    {
     "data": {
      "text/html": [
       "<div>\n",
       "<style scoped>\n",
       "    .dataframe tbody tr th:only-of-type {\n",
       "        vertical-align: middle;\n",
       "    }\n",
       "\n",
       "    .dataframe tbody tr th {\n",
       "        vertical-align: top;\n",
       "    }\n",
       "\n",
       "    .dataframe thead th {\n",
       "        text-align: right;\n",
       "    }\n",
       "</style>\n",
       "<table border=\"1\" class=\"dataframe\">\n",
       "  <thead>\n",
       "    <tr style=\"text-align: right;\">\n",
       "      <th></th>\n",
       "      <th>PassengerId</th>\n",
       "      <th>Survived</th>\n",
       "      <th>Pclass</th>\n",
       "      <th>Name</th>\n",
       "      <th>Sex</th>\n",
       "      <th>Age</th>\n",
       "      <th>SibSp</th>\n",
       "      <th>Parch</th>\n",
       "      <th>Ticket</th>\n",
       "      <th>Fare</th>\n",
       "      <th>Cabin</th>\n",
       "      <th>Embarked</th>\n",
       "      <th>Sex_binary</th>\n",
       "    </tr>\n",
       "  </thead>\n",
       "  <tbody>\n",
       "    <tr>\n",
       "      <th>0</th>\n",
       "      <td>1</td>\n",
       "      <td>0</td>\n",
       "      <td>3</td>\n",
       "      <td>Braund, Mr. Owen Harris</td>\n",
       "      <td>male</td>\n",
       "      <td>22.0</td>\n",
       "      <td>1</td>\n",
       "      <td>0</td>\n",
       "      <td>A/5 21171</td>\n",
       "      <td>7.2500</td>\n",
       "      <td>NaN</td>\n",
       "      <td>S</td>\n",
       "      <td>0</td>\n",
       "    </tr>\n",
       "    <tr>\n",
       "      <th>1</th>\n",
       "      <td>2</td>\n",
       "      <td>1</td>\n",
       "      <td>1</td>\n",
       "      <td>Cumings, Mrs. John Bradley (Florence Briggs Th...</td>\n",
       "      <td>female</td>\n",
       "      <td>38.0</td>\n",
       "      <td>1</td>\n",
       "      <td>0</td>\n",
       "      <td>PC 17599</td>\n",
       "      <td>71.2833</td>\n",
       "      <td>C85</td>\n",
       "      <td>C</td>\n",
       "      <td>1</td>\n",
       "    </tr>\n",
       "    <tr>\n",
       "      <th>2</th>\n",
       "      <td>3</td>\n",
       "      <td>1</td>\n",
       "      <td>3</td>\n",
       "      <td>Heikkinen, Miss. Laina</td>\n",
       "      <td>female</td>\n",
       "      <td>26.0</td>\n",
       "      <td>0</td>\n",
       "      <td>0</td>\n",
       "      <td>STON/O2. 3101282</td>\n",
       "      <td>7.9250</td>\n",
       "      <td>NaN</td>\n",
       "      <td>S</td>\n",
       "      <td>1</td>\n",
       "    </tr>\n",
       "    <tr>\n",
       "      <th>3</th>\n",
       "      <td>4</td>\n",
       "      <td>1</td>\n",
       "      <td>1</td>\n",
       "      <td>Futrelle, Mrs. Jacques Heath (Lily May Peel)</td>\n",
       "      <td>female</td>\n",
       "      <td>35.0</td>\n",
       "      <td>1</td>\n",
       "      <td>0</td>\n",
       "      <td>113803</td>\n",
       "      <td>53.1000</td>\n",
       "      <td>C123</td>\n",
       "      <td>S</td>\n",
       "      <td>1</td>\n",
       "    </tr>\n",
       "    <tr>\n",
       "      <th>4</th>\n",
       "      <td>5</td>\n",
       "      <td>0</td>\n",
       "      <td>3</td>\n",
       "      <td>Allen, Mr. William Henry</td>\n",
       "      <td>male</td>\n",
       "      <td>35.0</td>\n",
       "      <td>0</td>\n",
       "      <td>0</td>\n",
       "      <td>373450</td>\n",
       "      <td>8.0500</td>\n",
       "      <td>NaN</td>\n",
       "      <td>S</td>\n",
       "      <td>0</td>\n",
       "    </tr>\n",
       "  </tbody>\n",
       "</table>\n",
       "</div>"
      ],
      "text/plain": [
       "   PassengerId  Survived  Pclass  \\\n",
       "0            1         0       3   \n",
       "1            2         1       1   \n",
       "2            3         1       3   \n",
       "3            4         1       1   \n",
       "4            5         0       3   \n",
       "\n",
       "                                                Name     Sex   Age  SibSp  \\\n",
       "0                            Braund, Mr. Owen Harris    male  22.0      1   \n",
       "1  Cumings, Mrs. John Bradley (Florence Briggs Th...  female  38.0      1   \n",
       "2                             Heikkinen, Miss. Laina  female  26.0      0   \n",
       "3       Futrelle, Mrs. Jacques Heath (Lily May Peel)  female  35.0      1   \n",
       "4                           Allen, Mr. William Henry    male  35.0      0   \n",
       "\n",
       "   Parch            Ticket     Fare Cabin Embarked  Sex_binary  \n",
       "0      0         A/5 21171   7.2500   NaN        S           0  \n",
       "1      0          PC 17599  71.2833   C85        C           1  \n",
       "2      0  STON/O2. 3101282   7.9250   NaN        S           1  \n",
       "3      0            113803  53.1000  C123        S           1  \n",
       "4      0            373450   8.0500   NaN        S           0  "
      ]
     },
     "execution_count": 8,
     "metadata": {},
     "output_type": "execute_result"
    }
   ],
   "source": [
    "train.head()"
   ]
  },
  {
   "cell_type": "markdown",
   "id": "d9d78371",
   "metadata": {
    "papermill": {
     "duration": 0.008233,
     "end_time": "2022-11-27T13:35:20.163478",
     "exception": false,
     "start_time": "2022-11-27T13:35:20.155245",
     "status": "completed"
    },
    "tags": []
   },
   "source": [
    "\n",
    "### Defining the model variables"
   ]
  },
  {
   "cell_type": "code",
   "execution_count": 9,
   "id": "0cbccf3a",
   "metadata": {
    "execution": {
     "iopub.execute_input": "2022-11-27T13:35:20.182756Z",
     "iopub.status.busy": "2022-11-27T13:35:20.182445Z",
     "iopub.status.idle": "2022-11-27T13:35:20.187522Z",
     "shell.execute_reply": "2022-11-27T13:35:20.186372Z"
    },
    "papermill": {
     "duration": 0.018633,
     "end_time": "2022-11-27T13:35:20.190085",
     "exception": false,
     "start_time": "2022-11-27T13:35:20.171452",
     "status": "completed"
    },
    "tags": []
   },
   "outputs": [],
   "source": [
    "var = ['Sex_binary', 'Age']"
   ]
  },
  {
   "cell_type": "markdown",
   "id": "fde5645c",
   "metadata": {
    "papermill": {
     "duration": 0.007678,
     "end_time": "2022-11-27T13:35:20.205956",
     "exception": false,
     "start_time": "2022-11-27T13:35:20.198278",
     "status": "completed"
    },
    "tags": []
   },
   "source": [
    "### The X will be our input var to trainnig our model and the y will be the output what will want to predict"
   ]
  },
  {
   "cell_type": "code",
   "execution_count": 10,
   "id": "3dd7fcef",
   "metadata": {
    "execution": {
     "iopub.execute_input": "2022-11-27T13:35:20.223379Z",
     "iopub.status.busy": "2022-11-27T13:35:20.223025Z",
     "iopub.status.idle": "2022-11-27T13:35:20.233692Z",
     "shell.execute_reply": "2022-11-27T13:35:20.232196Z"
    },
    "papermill": {
     "duration": 0.022061,
     "end_time": "2022-11-27T13:35:20.236151",
     "exception": false,
     "start_time": "2022-11-27T13:35:20.214090",
     "status": "completed"
    },
    "tags": []
   },
   "outputs": [],
   "source": [
    "X = train[var]\n",
    "y = train['Survived']"
   ]
  },
  {
   "cell_type": "markdown",
   "id": "461efacf",
   "metadata": {
    "papermill": {
     "duration": 0.007955,
     "end_time": "2022-11-27T13:35:20.251993",
     "exception": false,
     "start_time": "2022-11-27T13:35:20.244038",
     "status": "completed"
    },
    "tags": []
   },
   "source": [
    "### Check df X and y"
   ]
  },
  {
   "cell_type": "code",
   "execution_count": 11,
   "id": "8109a50f",
   "metadata": {
    "execution": {
     "iopub.execute_input": "2022-11-27T13:35:20.269649Z",
     "iopub.status.busy": "2022-11-27T13:35:20.269095Z",
     "iopub.status.idle": "2022-11-27T13:35:20.279315Z",
     "shell.execute_reply": "2022-11-27T13:35:20.278288Z"
    },
    "papermill": {
     "duration": 0.022279,
     "end_time": "2022-11-27T13:35:20.282223",
     "exception": false,
     "start_time": "2022-11-27T13:35:20.259944",
     "status": "completed"
    },
    "tags": []
   },
   "outputs": [
    {
     "data": {
      "text/html": [
       "<div>\n",
       "<style scoped>\n",
       "    .dataframe tbody tr th:only-of-type {\n",
       "        vertical-align: middle;\n",
       "    }\n",
       "\n",
       "    .dataframe tbody tr th {\n",
       "        vertical-align: top;\n",
       "    }\n",
       "\n",
       "    .dataframe thead th {\n",
       "        text-align: right;\n",
       "    }\n",
       "</style>\n",
       "<table border=\"1\" class=\"dataframe\">\n",
       "  <thead>\n",
       "    <tr style=\"text-align: right;\">\n",
       "      <th></th>\n",
       "      <th>Sex_binary</th>\n",
       "      <th>Age</th>\n",
       "    </tr>\n",
       "  </thead>\n",
       "  <tbody>\n",
       "    <tr>\n",
       "      <th>0</th>\n",
       "      <td>0</td>\n",
       "      <td>22.0</td>\n",
       "    </tr>\n",
       "    <tr>\n",
       "      <th>1</th>\n",
       "      <td>1</td>\n",
       "      <td>38.0</td>\n",
       "    </tr>\n",
       "    <tr>\n",
       "      <th>2</th>\n",
       "      <td>1</td>\n",
       "      <td>26.0</td>\n",
       "    </tr>\n",
       "    <tr>\n",
       "      <th>3</th>\n",
       "      <td>1</td>\n",
       "      <td>35.0</td>\n",
       "    </tr>\n",
       "    <tr>\n",
       "      <th>4</th>\n",
       "      <td>0</td>\n",
       "      <td>35.0</td>\n",
       "    </tr>\n",
       "  </tbody>\n",
       "</table>\n",
       "</div>"
      ],
      "text/plain": [
       "   Sex_binary   Age\n",
       "0           0  22.0\n",
       "1           1  38.0\n",
       "2           1  26.0\n",
       "3           1  35.0\n",
       "4           0  35.0"
      ]
     },
     "execution_count": 11,
     "metadata": {},
     "output_type": "execute_result"
    }
   ],
   "source": [
    "X.head()"
   ]
  },
  {
   "cell_type": "code",
   "execution_count": 12,
   "id": "40009768",
   "metadata": {
    "execution": {
     "iopub.execute_input": "2022-11-27T13:35:20.300161Z",
     "iopub.status.busy": "2022-11-27T13:35:20.299848Z",
     "iopub.status.idle": "2022-11-27T13:35:20.307279Z",
     "shell.execute_reply": "2022-11-27T13:35:20.306071Z"
    },
    "papermill": {
     "duration": 0.018671,
     "end_time": "2022-11-27T13:35:20.309221",
     "exception": false,
     "start_time": "2022-11-27T13:35:20.290550",
     "status": "completed"
    },
    "tags": []
   },
   "outputs": [
    {
     "data": {
      "text/plain": [
       "0    0\n",
       "1    1\n",
       "2    1\n",
       "3    1\n",
       "4    0\n",
       "Name: Survived, dtype: int64"
      ]
     },
     "execution_count": 12,
     "metadata": {},
     "output_type": "execute_result"
    }
   ],
   "source": [
    "y.head()"
   ]
  },
  {
   "cell_type": "markdown",
   "id": "0eb76b10",
   "metadata": {
    "papermill": {
     "duration": 0.008141,
     "end_time": "2022-11-27T13:35:20.325742",
     "exception": false,
     "start_time": "2022-11-27T13:35:20.317601",
     "status": "completed"
    },
    "tags": []
   },
   "source": [
    "### The model can't work with NAN values so let's treat filling with -1 "
   ]
  },
  {
   "cell_type": "code",
   "execution_count": 13,
   "id": "cb9531c6",
   "metadata": {
    "execution": {
     "iopub.execute_input": "2022-11-27T13:35:20.344120Z",
     "iopub.status.busy": "2022-11-27T13:35:20.343799Z",
     "iopub.status.idle": "2022-11-27T13:35:20.348298Z",
     "shell.execute_reply": "2022-11-27T13:35:20.347264Z"
    },
    "papermill": {
     "duration": 0.015956,
     "end_time": "2022-11-27T13:35:20.350150",
     "exception": false,
     "start_time": "2022-11-27T13:35:20.334194",
     "status": "completed"
    },
    "tags": []
   },
   "outputs": [],
   "source": [
    "X = X.fillna(-1)"
   ]
  },
  {
   "cell_type": "markdown",
   "id": "2b50c2ff",
   "metadata": {
    "papermill": {
     "duration": 0.007924,
     "end_time": "2022-11-27T13:35:20.367294",
     "exception": false,
     "start_time": "2022-11-27T13:35:20.359370",
     "status": "completed"
    },
    "tags": []
   },
   "source": [
    "### Creating the model that recive X and y. What you want to analyse and predict "
   ]
  },
  {
   "cell_type": "code",
   "execution_count": 14,
   "id": "76776f7b",
   "metadata": {
    "execution": {
     "iopub.execute_input": "2022-11-27T13:35:20.384830Z",
     "iopub.status.busy": "2022-11-27T13:35:20.384509Z",
     "iopub.status.idle": "2022-11-27T13:35:20.737713Z",
     "shell.execute_reply": "2022-11-27T13:35:20.736438Z"
    },
    "papermill": {
     "duration": 0.364521,
     "end_time": "2022-11-27T13:35:20.740062",
     "exception": false,
     "start_time": "2022-11-27T13:35:20.375541",
     "status": "completed"
    },
    "tags": []
   },
   "outputs": [
    {
     "data": {
      "text/plain": [
       "RandomForestClassifier(n_jobs=-1, random_state=0)"
      ]
     },
     "execution_count": 14,
     "metadata": {},
     "output_type": "execute_result"
    }
   ],
   "source": [
    "model.fit(X, y)"
   ]
  },
  {
   "cell_type": "markdown",
   "id": "fdaee8d0",
   "metadata": {
    "papermill": {
     "duration": 0.008858,
     "end_time": "2022-11-27T13:35:20.758012",
     "exception": false,
     "start_time": "2022-11-27T13:35:20.749154",
     "status": "completed"
    },
    "tags": []
   },
   "source": [
    "### Applying the function transform_sex to test df"
   ]
  },
  {
   "cell_type": "code",
   "execution_count": 15,
   "id": "5705dcb3",
   "metadata": {
    "execution": {
     "iopub.execute_input": "2022-11-27T13:35:20.776934Z",
     "iopub.status.busy": "2022-11-27T13:35:20.776615Z",
     "iopub.status.idle": "2022-11-27T13:35:20.783773Z",
     "shell.execute_reply": "2022-11-27T13:35:20.782710Z"
    },
    "papermill": {
     "duration": 0.01907,
     "end_time": "2022-11-27T13:35:20.785861",
     "exception": false,
     "start_time": "2022-11-27T13:35:20.766791",
     "status": "completed"
    },
    "tags": []
   },
   "outputs": [],
   "source": [
    "test['Sex_binary'] = test['Sex'].map(transform_sex)"
   ]
  },
  {
   "cell_type": "code",
   "execution_count": 16,
   "id": "899925d8",
   "metadata": {
    "execution": {
     "iopub.execute_input": "2022-11-27T13:35:20.808698Z",
     "iopub.status.busy": "2022-11-27T13:35:20.807972Z",
     "iopub.status.idle": "2022-11-27T13:35:20.823083Z",
     "shell.execute_reply": "2022-11-27T13:35:20.822369Z"
    },
    "papermill": {
     "duration": 0.030196,
     "end_time": "2022-11-27T13:35:20.825342",
     "exception": false,
     "start_time": "2022-11-27T13:35:20.795146",
     "status": "completed"
    },
    "tags": []
   },
   "outputs": [
    {
     "data": {
      "text/html": [
       "<div>\n",
       "<style scoped>\n",
       "    .dataframe tbody tr th:only-of-type {\n",
       "        vertical-align: middle;\n",
       "    }\n",
       "\n",
       "    .dataframe tbody tr th {\n",
       "        vertical-align: top;\n",
       "    }\n",
       "\n",
       "    .dataframe thead th {\n",
       "        text-align: right;\n",
       "    }\n",
       "</style>\n",
       "<table border=\"1\" class=\"dataframe\">\n",
       "  <thead>\n",
       "    <tr style=\"text-align: right;\">\n",
       "      <th></th>\n",
       "      <th>PassengerId</th>\n",
       "      <th>Pclass</th>\n",
       "      <th>Name</th>\n",
       "      <th>Sex</th>\n",
       "      <th>Age</th>\n",
       "      <th>SibSp</th>\n",
       "      <th>Parch</th>\n",
       "      <th>Ticket</th>\n",
       "      <th>Fare</th>\n",
       "      <th>Cabin</th>\n",
       "      <th>Embarked</th>\n",
       "      <th>Sex_binary</th>\n",
       "    </tr>\n",
       "  </thead>\n",
       "  <tbody>\n",
       "    <tr>\n",
       "      <th>0</th>\n",
       "      <td>892</td>\n",
       "      <td>3</td>\n",
       "      <td>Kelly, Mr. James</td>\n",
       "      <td>male</td>\n",
       "      <td>34.5</td>\n",
       "      <td>0</td>\n",
       "      <td>0</td>\n",
       "      <td>330911</td>\n",
       "      <td>7.8292</td>\n",
       "      <td>NaN</td>\n",
       "      <td>Q</td>\n",
       "      <td>0</td>\n",
       "    </tr>\n",
       "    <tr>\n",
       "      <th>1</th>\n",
       "      <td>893</td>\n",
       "      <td>3</td>\n",
       "      <td>Wilkes, Mrs. James (Ellen Needs)</td>\n",
       "      <td>female</td>\n",
       "      <td>47.0</td>\n",
       "      <td>1</td>\n",
       "      <td>0</td>\n",
       "      <td>363272</td>\n",
       "      <td>7.0000</td>\n",
       "      <td>NaN</td>\n",
       "      <td>S</td>\n",
       "      <td>1</td>\n",
       "    </tr>\n",
       "    <tr>\n",
       "      <th>2</th>\n",
       "      <td>894</td>\n",
       "      <td>2</td>\n",
       "      <td>Myles, Mr. Thomas Francis</td>\n",
       "      <td>male</td>\n",
       "      <td>62.0</td>\n",
       "      <td>0</td>\n",
       "      <td>0</td>\n",
       "      <td>240276</td>\n",
       "      <td>9.6875</td>\n",
       "      <td>NaN</td>\n",
       "      <td>Q</td>\n",
       "      <td>0</td>\n",
       "    </tr>\n",
       "    <tr>\n",
       "      <th>3</th>\n",
       "      <td>895</td>\n",
       "      <td>3</td>\n",
       "      <td>Wirz, Mr. Albert</td>\n",
       "      <td>male</td>\n",
       "      <td>27.0</td>\n",
       "      <td>0</td>\n",
       "      <td>0</td>\n",
       "      <td>315154</td>\n",
       "      <td>8.6625</td>\n",
       "      <td>NaN</td>\n",
       "      <td>S</td>\n",
       "      <td>0</td>\n",
       "    </tr>\n",
       "    <tr>\n",
       "      <th>4</th>\n",
       "      <td>896</td>\n",
       "      <td>3</td>\n",
       "      <td>Hirvonen, Mrs. Alexander (Helga E Lindqvist)</td>\n",
       "      <td>female</td>\n",
       "      <td>22.0</td>\n",
       "      <td>1</td>\n",
       "      <td>1</td>\n",
       "      <td>3101298</td>\n",
       "      <td>12.2875</td>\n",
       "      <td>NaN</td>\n",
       "      <td>S</td>\n",
       "      <td>1</td>\n",
       "    </tr>\n",
       "  </tbody>\n",
       "</table>\n",
       "</div>"
      ],
      "text/plain": [
       "   PassengerId  Pclass                                          Name     Sex  \\\n",
       "0          892       3                              Kelly, Mr. James    male   \n",
       "1          893       3              Wilkes, Mrs. James (Ellen Needs)  female   \n",
       "2          894       2                     Myles, Mr. Thomas Francis    male   \n",
       "3          895       3                              Wirz, Mr. Albert    male   \n",
       "4          896       3  Hirvonen, Mrs. Alexander (Helga E Lindqvist)  female   \n",
       "\n",
       "    Age  SibSp  Parch   Ticket     Fare Cabin Embarked  Sex_binary  \n",
       "0  34.5      0      0   330911   7.8292   NaN        Q           0  \n",
       "1  47.0      1      0   363272   7.0000   NaN        S           1  \n",
       "2  62.0      0      0   240276   9.6875   NaN        Q           0  \n",
       "3  27.0      0      0   315154   8.6625   NaN        S           0  \n",
       "4  22.0      1      1  3101298  12.2875   NaN        S           1  "
      ]
     },
     "execution_count": 16,
     "metadata": {},
     "output_type": "execute_result"
    }
   ],
   "source": [
    "test.head()"
   ]
  },
  {
   "cell_type": "markdown",
   "id": "db241de2",
   "metadata": {
    "papermill": {
     "duration": 0.009212,
     "end_time": "2022-11-27T13:35:20.845255",
     "exception": false,
     "start_time": "2022-11-27T13:35:20.836043",
     "status": "completed"
    },
    "tags": []
   },
   "source": [
    "### Creating x_predict and treat de null values"
   ]
  },
  {
   "cell_type": "code",
   "execution_count": 17,
   "id": "844529b4",
   "metadata": {
    "execution": {
     "iopub.execute_input": "2022-11-27T13:35:20.865384Z",
     "iopub.status.busy": "2022-11-27T13:35:20.864681Z",
     "iopub.status.idle": "2022-11-27T13:35:20.877671Z",
     "shell.execute_reply": "2022-11-27T13:35:20.876713Z"
    },
    "papermill": {
     "duration": 0.025408,
     "end_time": "2022-11-27T13:35:20.879582",
     "exception": false,
     "start_time": "2022-11-27T13:35:20.854174",
     "status": "completed"
    },
    "tags": []
   },
   "outputs": [
    {
     "data": {
      "text/html": [
       "<div>\n",
       "<style scoped>\n",
       "    .dataframe tbody tr th:only-of-type {\n",
       "        vertical-align: middle;\n",
       "    }\n",
       "\n",
       "    .dataframe tbody tr th {\n",
       "        vertical-align: top;\n",
       "    }\n",
       "\n",
       "    .dataframe thead th {\n",
       "        text-align: right;\n",
       "    }\n",
       "</style>\n",
       "<table border=\"1\" class=\"dataframe\">\n",
       "  <thead>\n",
       "    <tr style=\"text-align: right;\">\n",
       "      <th></th>\n",
       "      <th>Sex_binary</th>\n",
       "      <th>Age</th>\n",
       "    </tr>\n",
       "  </thead>\n",
       "  <tbody>\n",
       "    <tr>\n",
       "      <th>0</th>\n",
       "      <td>0</td>\n",
       "      <td>34.5</td>\n",
       "    </tr>\n",
       "    <tr>\n",
       "      <th>1</th>\n",
       "      <td>1</td>\n",
       "      <td>47.0</td>\n",
       "    </tr>\n",
       "    <tr>\n",
       "      <th>2</th>\n",
       "      <td>0</td>\n",
       "      <td>62.0</td>\n",
       "    </tr>\n",
       "    <tr>\n",
       "      <th>3</th>\n",
       "      <td>0</td>\n",
       "      <td>27.0</td>\n",
       "    </tr>\n",
       "    <tr>\n",
       "      <th>4</th>\n",
       "      <td>1</td>\n",
       "      <td>22.0</td>\n",
       "    </tr>\n",
       "  </tbody>\n",
       "</table>\n",
       "</div>"
      ],
      "text/plain": [
       "   Sex_binary   Age\n",
       "0           0  34.5\n",
       "1           1  47.0\n",
       "2           0  62.0\n",
       "3           0  27.0\n",
       "4           1  22.0"
      ]
     },
     "execution_count": 17,
     "metadata": {},
     "output_type": "execute_result"
    }
   ],
   "source": [
    "x_predict= test[var]\n",
    "x_predict = x_predict.fillna(-1)\n",
    "x_predict.head()"
   ]
  },
  {
   "cell_type": "markdown",
   "id": "7088f4ff",
   "metadata": {
    "papermill": {
     "duration": 0.008758,
     "end_time": "2022-11-27T13:35:20.897270",
     "exception": false,
     "start_time": "2022-11-27T13:35:20.888512",
     "status": "completed"
    },
    "tags": []
   },
   "source": [
    "### Applying method predict to the variables x_predict"
   ]
  },
  {
   "cell_type": "code",
   "execution_count": 18,
   "id": "da1f6cde",
   "metadata": {
    "execution": {
     "iopub.execute_input": "2022-11-27T13:35:20.915919Z",
     "iopub.status.busy": "2022-11-27T13:35:20.915456Z",
     "iopub.status.idle": "2022-11-27T13:35:21.024839Z",
     "shell.execute_reply": "2022-11-27T13:35:21.023648Z"
    },
    "papermill": {
     "duration": 0.12125,
     "end_time": "2022-11-27T13:35:21.027309",
     "exception": false,
     "start_time": "2022-11-27T13:35:20.906059",
     "status": "completed"
    },
    "tags": []
   },
   "outputs": [],
   "source": [
    "p = model.predict(x_predict)"
   ]
  },
  {
   "cell_type": "markdown",
   "id": "2b1f8598",
   "metadata": {
    "papermill": {
     "duration": 0.008116,
     "end_time": "2022-11-27T13:35:21.044135",
     "exception": false,
     "start_time": "2022-11-27T13:35:21.036019",
     "status": "completed"
    },
    "tags": []
   },
   "source": [
    "### The array p is showing who survived and who doesn't - our prediction"
   ]
  },
  {
   "cell_type": "code",
   "execution_count": 19,
   "id": "0d088bb5",
   "metadata": {
    "execution": {
     "iopub.execute_input": "2022-11-27T13:35:21.062390Z",
     "iopub.status.busy": "2022-11-27T13:35:21.062021Z",
     "iopub.status.idle": "2022-11-27T13:35:21.070153Z",
     "shell.execute_reply": "2022-11-27T13:35:21.069185Z"
    },
    "papermill": {
     "duration": 0.019873,
     "end_time": "2022-11-27T13:35:21.072595",
     "exception": false,
     "start_time": "2022-11-27T13:35:21.052722",
     "status": "completed"
    },
    "tags": []
   },
   "outputs": [
    {
     "data": {
      "text/plain": [
       "array([0, 1, 0, 1, 1, 0, 1, 0, 1, 0, 0, 0, 1, 0, 1, 1, 0, 0, 1, 0, 0, 1,\n",
       "       1, 0, 1, 0, 1, 0, 0, 0, 0, 0, 1, 1, 0, 0, 1, 1, 0, 0, 0, 0, 0, 1,\n",
       "       0, 0, 0, 0, 1, 1, 0, 1, 0, 1, 0, 0, 0, 0, 0, 1, 0, 0, 0, 1, 1, 1,\n",
       "       1, 0, 0, 1, 1, 0, 1, 0, 1, 0, 0, 1, 0, 1, 1, 0, 1, 0, 0, 0, 1, 1,\n",
       "       1, 0, 1, 0, 1, 0, 0, 0, 1, 0, 0, 0, 1, 1, 0, 0, 1, 0, 0, 0, 0, 0,\n",
       "       0, 1, 1, 1, 1, 0, 0, 1, 0, 1, 0, 0, 1, 0, 0, 1, 0, 1, 0, 0, 0, 0,\n",
       "       1, 0, 0, 0, 0, 0, 1, 0, 0, 1, 0, 0, 0, 0, 0, 0, 0, 0, 1, 0, 0, 1,\n",
       "       1, 0, 1, 1, 0, 1, 1, 0, 1, 0, 0, 1, 1, 0, 1, 1, 0, 1, 0, 0, 0, 1,\n",
       "       0, 0, 1, 1, 0, 0, 1, 0, 1, 0, 1, 0, 1, 0, 0, 0, 0, 0, 0, 0, 1, 1,\n",
       "       0, 1, 1, 1, 0, 1, 0, 0, 1, 0, 1, 0, 0, 0, 0, 1, 1, 0, 1, 0, 1, 0,\n",
       "       1, 0, 1, 0, 1, 1, 0, 1, 0, 0, 0, 1, 0, 0, 0, 0, 0, 0, 1, 1, 1, 0,\n",
       "       0, 0, 0, 0, 1, 0, 1, 1, 1, 0, 1, 0, 0, 0, 0, 0, 1, 0, 0, 0, 1, 1,\n",
       "       0, 0, 0, 0, 1, 0, 0, 0, 1, 1, 0, 0, 0, 0, 0, 0, 1, 1, 1, 0, 0, 0,\n",
       "       0, 0, 0, 0, 0, 1, 0, 0, 0, 0, 1, 0, 0, 0, 0, 0, 0, 0, 1, 1, 0, 1,\n",
       "       0, 0, 0, 0, 0, 0, 1, 1, 0, 0, 1, 0, 0, 0, 0, 0, 1, 0, 0, 0, 0, 0,\n",
       "       1, 0, 0, 1, 1, 0, 0, 0, 0, 0, 0, 0, 0, 1, 0, 1, 0, 1, 0, 1, 0, 0,\n",
       "       0, 1, 1, 0, 1, 0, 0, 1, 0, 1, 1, 1, 0, 1, 0, 1, 0, 0, 0, 1, 1, 0,\n",
       "       1, 0, 1, 0, 0, 0, 0, 0, 1, 1, 0, 1, 0, 0, 0, 1, 0, 1, 1, 0, 0, 1,\n",
       "       0, 1, 0, 0, 1, 0, 1, 0, 0, 0, 0, 0, 1, 0, 1, 0, 1, 0, 1, 0, 0, 0])"
      ]
     },
     "execution_count": 19,
     "metadata": {},
     "output_type": "execute_result"
    }
   ],
   "source": [
    "p"
   ]
  },
  {
   "cell_type": "markdown",
   "id": "e0a7cc82",
   "metadata": {
    "papermill": {
     "duration": 0.00891,
     "end_time": "2022-11-27T13:35:21.090379",
     "exception": false,
     "start_time": "2022-11-27T13:35:21.081469",
     "status": "completed"
    },
    "tags": []
   },
   "source": [
    "### Creating df sub to submit to analyse into kaggle. But, we need to match the order and index to our df, but we need to change the PassengerId name to Survived"
   ]
  },
  {
   "cell_type": "code",
   "execution_count": 20,
   "id": "187e99c9",
   "metadata": {
    "execution": {
     "iopub.execute_input": "2022-11-27T13:35:21.110407Z",
     "iopub.status.busy": "2022-11-27T13:35:21.110098Z",
     "iopub.status.idle": "2022-11-27T13:35:21.117980Z",
     "shell.execute_reply": "2022-11-27T13:35:21.116579Z"
    },
    "papermill": {
     "duration": 0.020447,
     "end_time": "2022-11-27T13:35:21.120162",
     "exception": false,
     "start_time": "2022-11-27T13:35:21.099715",
     "status": "completed"
    },
    "tags": []
   },
   "outputs": [
    {
     "data": {
      "text/plain": [
       "(418,)"
      ]
     },
     "execution_count": 20,
     "metadata": {},
     "output_type": "execute_result"
    }
   ],
   "source": [
    "sub = pd.Series(p, index=test['PassengerId'], name='Survived')\n",
    "\n",
    "sub.shape"
   ]
  },
  {
   "cell_type": "markdown",
   "id": "75167d48",
   "metadata": {
    "papermill": {
     "duration": 0.008561,
     "end_time": "2022-11-27T13:35:21.137843",
     "exception": false,
     "start_time": "2022-11-27T13:35:21.129282",
     "status": "completed"
    },
    "tags": []
   },
   "source": [
    "### Convert to_csv"
   ]
  },
  {
   "cell_type": "code",
   "execution_count": 21,
   "id": "3f22e7c3",
   "metadata": {
    "execution": {
     "iopub.execute_input": "2022-11-27T13:35:21.156995Z",
     "iopub.status.busy": "2022-11-27T13:35:21.156680Z",
     "iopub.status.idle": "2022-11-27T13:35:21.165047Z",
     "shell.execute_reply": "2022-11-27T13:35:21.164088Z"
    },
    "papermill": {
     "duration": 0.020416,
     "end_time": "2022-11-27T13:35:21.167265",
     "exception": false,
     "start_time": "2022-11-27T13:35:21.146849",
     "status": "completed"
    },
    "tags": []
   },
   "outputs": [],
   "source": [
    "sub.to_csv('first_model.csv', header=True)"
   ]
  },
  {
   "cell_type": "markdown",
   "id": "2a7a2ba2",
   "metadata": {
    "papermill": {
     "duration": 0.008473,
     "end_time": "2022-11-27T13:35:21.184744",
     "exception": false,
     "start_time": "2022-11-27T13:35:21.176271",
     "status": "completed"
    },
    "tags": []
   },
   "source": [
    "### Check the first 10 lines first_model.csv"
   ]
  },
  {
   "cell_type": "code",
   "execution_count": 22,
   "id": "e05c8ebb",
   "metadata": {
    "execution": {
     "iopub.execute_input": "2022-11-27T13:35:21.204934Z",
     "iopub.status.busy": "2022-11-27T13:35:21.204452Z",
     "iopub.status.idle": "2022-11-27T13:35:21.489398Z",
     "shell.execute_reply": "2022-11-27T13:35:21.487977Z"
    },
    "papermill": {
     "duration": 0.297548,
     "end_time": "2022-11-27T13:35:21.491659",
     "exception": false,
     "start_time": "2022-11-27T13:35:21.194111",
     "status": "completed"
    },
    "tags": []
   },
   "outputs": [
    {
     "name": "stdout",
     "output_type": "stream",
     "text": [
      "PassengerId,Survived\r\n",
      "892,0\r\n",
      "893,1\r\n",
      "894,0\r\n",
      "895,1\r\n",
      "896,1\r\n",
      "897,0\r\n",
      "898,1\r\n",
      "899,0\r\n",
      "900,1\r\n"
     ]
    }
   ],
   "source": [
    "!head -10 first_model.csv"
   ]
  }
 ],
 "metadata": {
  "kernelspec": {
   "display_name": "Python 3",
   "language": "python",
   "name": "python3"
  },
  "language_info": {
   "codemirror_mode": {
    "name": "ipython",
    "version": 3
   },
   "file_extension": ".py",
   "mimetype": "text/x-python",
   "name": "python",
   "nbconvert_exporter": "python",
   "pygments_lexer": "ipython3",
   "version": "3.7.12"
  },
  "papermill": {
   "default_parameters": {},
   "duration": 10.908746,
   "end_time": "2022-11-27T13:35:22.119786",
   "environment_variables": {},
   "exception": null,
   "input_path": "__notebook__.ipynb",
   "output_path": "__notebook__.ipynb",
   "parameters": {},
   "start_time": "2022-11-27T13:35:11.211040",
   "version": "2.3.4"
  }
 },
 "nbformat": 4,
 "nbformat_minor": 5
}
