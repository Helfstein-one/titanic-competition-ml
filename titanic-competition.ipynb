{
 "cells": [
  {
   "cell_type": "markdown",
   "id": "0b801fcf",
   "metadata": {
    "papermill": {
     "duration": 0.00727,
     "end_time": "2022-11-15T05:26:43.278579",
     "exception": false,
     "start_time": "2022-11-15T05:26:43.271309",
     "status": "completed"
    },
    "tags": []
   },
   "source": [
    "# Titanic Competition - Machine Learning from Disaster"
   ]
  },
  {
   "cell_type": "markdown",
   "id": "4658effe",
   "metadata": {
    "papermill": {
     "duration": 0.005628,
     "end_time": "2022-11-15T05:26:43.290498",
     "exception": false,
     "start_time": "2022-11-15T05:26:43.284870",
     "status": "completed"
    },
    "tags": []
   },
   "source": [
    "![image](https://cdn.activestate.com/wp-content/uploads/2021/05/kaggle-titanic-challenge.jpg)"
   ]
  },
  {
   "cell_type": "code",
   "execution_count": 1,
   "id": "94eaa98f",
   "metadata": {
    "execution": {
     "iopub.execute_input": "2022-11-15T05:26:43.305575Z",
     "iopub.status.busy": "2022-11-15T05:26:43.304814Z",
     "iopub.status.idle": "2022-11-15T05:26:44.856257Z",
     "shell.execute_reply": "2022-11-15T05:26:44.854940Z"
    },
    "papermill": {
     "duration": 1.562859,
     "end_time": "2022-11-15T05:26:44.859773",
     "exception": false,
     "start_time": "2022-11-15T05:26:43.296914",
     "status": "completed"
    },
    "tags": []
   },
   "outputs": [
    {
     "name": "stdout",
     "output_type": "stream",
     "text": [
      "Imports successfully loaded\n"
     ]
    }
   ],
   "source": [
    "from sklearn.ensemble import RandomForestClassifier\n",
    "import numpy as np \n",
    "import pandas as pd \n",
    "import os\n",
    "\n",
    "\n",
    "print(f'Imports successfully loaded')"
   ]
  },
  {
   "cell_type": "code",
   "execution_count": 2,
   "id": "98926aee",
   "metadata": {
    "execution": {
     "iopub.execute_input": "2022-11-15T05:26:44.875471Z",
     "iopub.status.busy": "2022-11-15T05:26:44.875050Z",
     "iopub.status.idle": "2022-11-15T05:26:44.882447Z",
     "shell.execute_reply": "2022-11-15T05:26:44.881071Z"
    },
    "papermill": {
     "duration": 0.018144,
     "end_time": "2022-11-15T05:26:44.885526",
     "exception": false,
     "start_time": "2022-11-15T05:26:44.867382",
     "status": "completed"
    },
    "tags": []
   },
   "outputs": [
    {
     "name": "stdout",
     "output_type": "stream",
     "text": [
      "/kaggle/input/titanic/train.csv\n",
      "/kaggle/input/titanic/test.csv\n",
      "/kaggle/input/titanic/gender_submission.csv\n"
     ]
    }
   ],
   "source": [
    "for dirname, _, filenames in os.walk('/kaggle/input'):\n",
    "    for filename in filenames:\n",
    "        print(os.path.join(dirname, filename))"
   ]
  },
  {
   "cell_type": "markdown",
   "id": "b6aaf1bc",
   "metadata": {
    "papermill": {
     "duration": 0.005751,
     "end_time": "2022-11-15T05:26:44.898094",
     "exception": false,
     "start_time": "2022-11-15T05:26:44.892343",
     "status": "completed"
    },
    "tags": []
   },
   "source": [
    "#### Imports DataFrame \n",
    "- gender_submission\n",
    "- test\n",
    "- train"
   ]
  },
  {
   "cell_type": "code",
   "execution_count": 3,
   "id": "9e74117e",
   "metadata": {
    "execution": {
     "iopub.execute_input": "2022-11-15T05:26:44.912455Z",
     "iopub.status.busy": "2022-11-15T05:26:44.911647Z",
     "iopub.status.idle": "2022-11-15T05:26:44.972508Z",
     "shell.execute_reply": "2022-11-15T05:26:44.971256Z"
    },
    "papermill": {
     "duration": 0.07153,
     "end_time": "2022-11-15T05:26:44.975684",
     "exception": false,
     "start_time": "2022-11-15T05:26:44.904154",
     "status": "completed"
    },
    "tags": []
   },
   "outputs": [
    {
     "name": "stdout",
     "output_type": "stream",
     "text": [
      "Dataframes successfully converted\n"
     ]
    }
   ],
   "source": [
    "train = pd.read_csv(\"../input/titanic/train.csv\")\n",
    "test = pd.read_csv(\"../input/titanic/test.csv\")\n",
    "gender_submission = pd.read_csv(\"../input/titanic/gender_submission.csv\")\n",
    "\n",
    "print(f'Dataframes successfully converted')"
   ]
  },
  {
   "cell_type": "markdown",
   "id": "5f141d65",
   "metadata": {
    "papermill": {
     "duration": 0.005784,
     "end_time": "2022-11-15T05:26:44.987846",
     "exception": false,
     "start_time": "2022-11-15T05:26:44.982062",
     "status": "completed"
    },
    "tags": []
   },
   "source": [
    "### Creating Model e using RandomForest"
   ]
  },
  {
   "cell_type": "code",
   "execution_count": 4,
   "id": "dcf91ec9",
   "metadata": {
    "execution": {
     "iopub.execute_input": "2022-11-15T05:26:45.006050Z",
     "iopub.status.busy": "2022-11-15T05:26:45.004800Z",
     "iopub.status.idle": "2022-11-15T05:26:45.012097Z",
     "shell.execute_reply": "2022-11-15T05:26:45.010732Z"
    },
    "papermill": {
     "duration": 0.019767,
     "end_time": "2022-11-15T05:26:45.015063",
     "exception": false,
     "start_time": "2022-11-15T05:26:44.995296",
     "status": "completed"
    },
    "tags": []
   },
   "outputs": [
    {
     "name": "stdout",
     "output_type": "stream",
     "text": [
      "Modal successfully set\n"
     ]
    }
   ],
   "source": [
    "model = RandomForestClassifier(n_estimators=100, n_jobs=-1, random_state=0)\n",
    "\n",
    "print(f'Modal successfully set')"
   ]
  },
  {
   "cell_type": "markdown",
   "id": "b92c0937",
   "metadata": {
    "papermill": {
     "duration": 0.005934,
     "end_time": "2022-11-15T05:26:45.028107",
     "exception": false,
     "start_time": "2022-11-15T05:26:45.022173",
     "status": "completed"
    },
    "tags": []
   },
   "source": [
    "#### Fuction to create binary values for sex"
   ]
  },
  {
   "cell_type": "code",
   "execution_count": 5,
   "id": "57217106",
   "metadata": {
    "execution": {
     "iopub.execute_input": "2022-11-15T05:26:45.043024Z",
     "iopub.status.busy": "2022-11-15T05:26:45.042617Z",
     "iopub.status.idle": "2022-11-15T05:26:45.049149Z",
     "shell.execute_reply": "2022-11-15T05:26:45.048111Z"
    },
    "papermill": {
     "duration": 0.016627,
     "end_time": "2022-11-15T05:26:45.051418",
     "exception": false,
     "start_time": "2022-11-15T05:26:45.034791",
     "status": "completed"
    },
    "tags": []
   },
   "outputs": [],
   "source": [
    "def transform_sex(value):\n",
    "    if value == 'female':\n",
    "        return 1\n",
    "    else:\n",
    "        return 0"
   ]
  },
  {
   "cell_type": "markdown",
   "id": "4e7806b7",
   "metadata": {
    "papermill": {
     "duration": 0.005867,
     "end_time": "2022-11-15T05:26:45.063519",
     "exception": false,
     "start_time": "2022-11-15T05:26:45.057652",
     "status": "completed"
    },
    "tags": []
   },
   "source": [
    "#### Creating a new column applying the function transform_sex"
   ]
  },
  {
   "cell_type": "code",
   "execution_count": 6,
   "id": "c7731a3c",
   "metadata": {
    "execution": {
     "iopub.execute_input": "2022-11-15T05:26:45.078289Z",
     "iopub.status.busy": "2022-11-15T05:26:45.077029Z",
     "iopub.status.idle": "2022-11-15T05:26:45.090988Z",
     "shell.execute_reply": "2022-11-15T05:26:45.089600Z"
    },
    "papermill": {
     "duration": 0.024022,
     "end_time": "2022-11-15T05:26:45.093698",
     "exception": false,
     "start_time": "2022-11-15T05:26:45.069676",
     "status": "completed"
    },
    "tags": []
   },
   "outputs": [],
   "source": [
    "train['Sex_binary'] = train['Sex'].map(transform_sex)"
   ]
  },
  {
   "cell_type": "markdown",
   "id": "e20b4eb4",
   "metadata": {
    "papermill": {
     "duration": 0.006218,
     "end_time": "2022-11-15T05:26:45.106078",
     "exception": false,
     "start_time": "2022-11-15T05:26:45.099860",
     "status": "completed"
    },
    "tags": []
   },
   "source": [
    "\n",
    "### Defining the model variables"
   ]
  },
  {
   "cell_type": "code",
   "execution_count": 7,
   "id": "f3c63720",
   "metadata": {
    "execution": {
     "iopub.execute_input": "2022-11-15T05:26:45.120492Z",
     "iopub.status.busy": "2022-11-15T05:26:45.120065Z",
     "iopub.status.idle": "2022-11-15T05:26:45.125570Z",
     "shell.execute_reply": "2022-11-15T05:26:45.124313Z"
    },
    "papermill": {
     "duration": 0.015573,
     "end_time": "2022-11-15T05:26:45.127847",
     "exception": false,
     "start_time": "2022-11-15T05:26:45.112274",
     "status": "completed"
    },
    "tags": []
   },
   "outputs": [],
   "source": [
    "var = ['Sex_binary', 'Age']"
   ]
  },
  {
   "cell_type": "markdown",
   "id": "8c36307b",
   "metadata": {
    "papermill": {
     "duration": 0.007373,
     "end_time": "2022-11-15T05:26:45.141473",
     "exception": false,
     "start_time": "2022-11-15T05:26:45.134100",
     "status": "completed"
    },
    "tags": []
   },
   "source": [
    "#### The X df will be our set to trainning and the y what will want to predict"
   ]
  },
  {
   "cell_type": "code",
   "execution_count": 8,
   "id": "b8a62186",
   "metadata": {
    "execution": {
     "iopub.execute_input": "2022-11-15T05:26:45.155401Z",
     "iopub.status.busy": "2022-11-15T05:26:45.154966Z",
     "iopub.status.idle": "2022-11-15T05:26:45.166292Z",
     "shell.execute_reply": "2022-11-15T05:26:45.165156Z"
    },
    "papermill": {
     "duration": 0.021303,
     "end_time": "2022-11-15T05:26:45.168849",
     "exception": false,
     "start_time": "2022-11-15T05:26:45.147546",
     "status": "completed"
    },
    "tags": []
   },
   "outputs": [],
   "source": [
    "X = train[var]\n",
    "y = train['Survived']"
   ]
  },
  {
   "cell_type": "markdown",
   "id": "21838f4f",
   "metadata": {
    "papermill": {
     "duration": 0.005828,
     "end_time": "2022-11-15T05:26:45.181145",
     "exception": false,
     "start_time": "2022-11-15T05:26:45.175317",
     "status": "completed"
    },
    "tags": []
   },
   "source": [
    "#### The model can't work with NAN values so last treat filling with -1 "
   ]
  },
  {
   "cell_type": "code",
   "execution_count": 9,
   "id": "27deeabf",
   "metadata": {
    "execution": {
     "iopub.execute_input": "2022-11-15T05:26:45.195179Z",
     "iopub.status.busy": "2022-11-15T05:26:45.194781Z",
     "iopub.status.idle": "2022-11-15T05:26:45.200956Z",
     "shell.execute_reply": "2022-11-15T05:26:45.199702Z"
    },
    "papermill": {
     "duration": 0.016042,
     "end_time": "2022-11-15T05:26:45.203410",
     "exception": false,
     "start_time": "2022-11-15T05:26:45.187368",
     "status": "completed"
    },
    "tags": []
   },
   "outputs": [],
   "source": [
    "X = X.fillna(-1)"
   ]
  },
  {
   "cell_type": "markdown",
   "id": "672208fa",
   "metadata": {
    "papermill": {
     "duration": 0.005832,
     "end_time": "2022-11-15T05:26:45.215430",
     "exception": false,
     "start_time": "2022-11-15T05:26:45.209598",
     "status": "completed"
    },
    "tags": []
   },
   "source": [
    "#### Creating the model"
   ]
  },
  {
   "cell_type": "code",
   "execution_count": 10,
   "id": "15678dce",
   "metadata": {
    "execution": {
     "iopub.execute_input": "2022-11-15T05:26:45.235016Z",
     "iopub.status.busy": "2022-11-15T05:26:45.234205Z",
     "iopub.status.idle": "2022-11-15T05:26:45.600381Z",
     "shell.execute_reply": "2022-11-15T05:26:45.598996Z"
    },
    "papermill": {
     "duration": 0.379933,
     "end_time": "2022-11-15T05:26:45.603444",
     "exception": false,
     "start_time": "2022-11-15T05:26:45.223511",
     "status": "completed"
    },
    "tags": []
   },
   "outputs": [
    {
     "data": {
      "text/plain": [
       "RandomForestClassifier(n_jobs=-1, random_state=0)"
      ]
     },
     "execution_count": 10,
     "metadata": {},
     "output_type": "execute_result"
    }
   ],
   "source": [
    "model.fit(X, y)"
   ]
  },
  {
   "cell_type": "code",
   "execution_count": 11,
   "id": "94039a9c",
   "metadata": {
    "execution": {
     "iopub.execute_input": "2022-11-15T05:26:45.620057Z",
     "iopub.status.busy": "2022-11-15T05:26:45.618932Z",
     "iopub.status.idle": "2022-11-15T05:26:45.625698Z",
     "shell.execute_reply": "2022-11-15T05:26:45.624818Z"
    },
    "papermill": {
     "duration": 0.017551,
     "end_time": "2022-11-15T05:26:45.628035",
     "exception": false,
     "start_time": "2022-11-15T05:26:45.610484",
     "status": "completed"
    },
    "tags": []
   },
   "outputs": [],
   "source": [
    "test['Sex_binary'] = test['Sex'].map(transform_sex)"
   ]
  },
  {
   "cell_type": "code",
   "execution_count": 12,
   "id": "3da640cb",
   "metadata": {
    "execution": {
     "iopub.execute_input": "2022-11-15T05:26:45.643667Z",
     "iopub.status.busy": "2022-11-15T05:26:45.643244Z",
     "iopub.status.idle": "2022-11-15T05:26:45.660471Z",
     "shell.execute_reply": "2022-11-15T05:26:45.659557Z"
    },
    "papermill": {
     "duration": 0.028269,
     "end_time": "2022-11-15T05:26:45.662816",
     "exception": false,
     "start_time": "2022-11-15T05:26:45.634547",
     "status": "completed"
    },
    "tags": []
   },
   "outputs": [
    {
     "data": {
      "text/html": [
       "<div>\n",
       "<style scoped>\n",
       "    .dataframe tbody tr th:only-of-type {\n",
       "        vertical-align: middle;\n",
       "    }\n",
       "\n",
       "    .dataframe tbody tr th {\n",
       "        vertical-align: top;\n",
       "    }\n",
       "\n",
       "    .dataframe thead th {\n",
       "        text-align: right;\n",
       "    }\n",
       "</style>\n",
       "<table border=\"1\" class=\"dataframe\">\n",
       "  <thead>\n",
       "    <tr style=\"text-align: right;\">\n",
       "      <th></th>\n",
       "      <th>Sex_binary</th>\n",
       "      <th>Age</th>\n",
       "    </tr>\n",
       "  </thead>\n",
       "  <tbody>\n",
       "    <tr>\n",
       "      <th>0</th>\n",
       "      <td>0</td>\n",
       "      <td>34.5</td>\n",
       "    </tr>\n",
       "    <tr>\n",
       "      <th>1</th>\n",
       "      <td>1</td>\n",
       "      <td>47.0</td>\n",
       "    </tr>\n",
       "    <tr>\n",
       "      <th>2</th>\n",
       "      <td>0</td>\n",
       "      <td>62.0</td>\n",
       "    </tr>\n",
       "    <tr>\n",
       "      <th>3</th>\n",
       "      <td>0</td>\n",
       "      <td>27.0</td>\n",
       "    </tr>\n",
       "    <tr>\n",
       "      <th>4</th>\n",
       "      <td>1</td>\n",
       "      <td>22.0</td>\n",
       "    </tr>\n",
       "  </tbody>\n",
       "</table>\n",
       "</div>"
      ],
      "text/plain": [
       "   Sex_binary   Age\n",
       "0           0  34.5\n",
       "1           1  47.0\n",
       "2           0  62.0\n",
       "3           0  27.0\n",
       "4           1  22.0"
      ]
     },
     "execution_count": 12,
     "metadata": {},
     "output_type": "execute_result"
    }
   ],
   "source": [
    "x_predict= test[var]\n",
    "x_predict = x_predict.fillna(-1)\n",
    "x_predict.head()"
   ]
  },
  {
   "cell_type": "code",
   "execution_count": 13,
   "id": "dcbf5280",
   "metadata": {
    "execution": {
     "iopub.execute_input": "2022-11-15T05:26:45.678535Z",
     "iopub.status.busy": "2022-11-15T05:26:45.677857Z",
     "iopub.status.idle": "2022-11-15T05:26:45.788093Z",
     "shell.execute_reply": "2022-11-15T05:26:45.786761Z"
    },
    "papermill": {
     "duration": 0.121312,
     "end_time": "2022-11-15T05:26:45.791107",
     "exception": false,
     "start_time": "2022-11-15T05:26:45.669795",
     "status": "completed"
    },
    "tags": []
   },
   "outputs": [],
   "source": [
    "p = model.predict(x_predict)"
   ]
  },
  {
   "cell_type": "code",
   "execution_count": 14,
   "id": "4a1db452",
   "metadata": {
    "execution": {
     "iopub.execute_input": "2022-11-15T05:26:45.808001Z",
     "iopub.status.busy": "2022-11-15T05:26:45.806923Z",
     "iopub.status.idle": "2022-11-15T05:26:45.815154Z",
     "shell.execute_reply": "2022-11-15T05:26:45.814006Z"
    },
    "papermill": {
     "duration": 0.019348,
     "end_time": "2022-11-15T05:26:45.817693",
     "exception": false,
     "start_time": "2022-11-15T05:26:45.798345",
     "status": "completed"
    },
    "tags": []
   },
   "outputs": [
    {
     "data": {
      "text/plain": [
       "(418,)"
      ]
     },
     "execution_count": 14,
     "metadata": {},
     "output_type": "execute_result"
    }
   ],
   "source": [
    "sub = pd.Series(p, index=test['PassengerId'], name='Survived')\n",
    "\n",
    "sub.shape"
   ]
  },
  {
   "cell_type": "code",
   "execution_count": 15,
   "id": "838f7e00",
   "metadata": {
    "execution": {
     "iopub.execute_input": "2022-11-15T05:26:45.834653Z",
     "iopub.status.busy": "2022-11-15T05:26:45.833377Z",
     "iopub.status.idle": "2022-11-15T05:26:45.843875Z",
     "shell.execute_reply": "2022-11-15T05:26:45.842527Z"
    },
    "papermill": {
     "duration": 0.021902,
     "end_time": "2022-11-15T05:26:45.846580",
     "exception": false,
     "start_time": "2022-11-15T05:26:45.824678",
     "status": "completed"
    },
    "tags": []
   },
   "outputs": [],
   "source": [
    "sub.to_csv('first_model.csv', header=True)"
   ]
  },
  {
   "cell_type": "code",
   "execution_count": 16,
   "id": "57759b67",
   "metadata": {
    "execution": {
     "iopub.execute_input": "2022-11-15T05:26:45.863586Z",
     "iopub.status.busy": "2022-11-15T05:26:45.862875Z",
     "iopub.status.idle": "2022-11-15T05:26:46.985080Z",
     "shell.execute_reply": "2022-11-15T05:26:46.983673Z"
    },
    "papermill": {
     "duration": 1.133687,
     "end_time": "2022-11-15T05:26:46.988056",
     "exception": false,
     "start_time": "2022-11-15T05:26:45.854369",
     "status": "completed"
    },
    "tags": []
   },
   "outputs": [
    {
     "name": "stdout",
     "output_type": "stream",
     "text": [
      "PassengerId,Survived\r\n",
      "892,0\r\n",
      "893,1\r\n",
      "894,0\r\n",
      "895,1\r\n",
      "896,1\r\n",
      "897,0\r\n",
      "898,1\r\n",
      "899,0\r\n",
      "900,1\r\n"
     ]
    }
   ],
   "source": [
    "!head -10 first_model.csv"
   ]
  }
 ],
 "metadata": {
  "kernelspec": {
   "display_name": "Python 3",
   "language": "python",
   "name": "python3"
  },
  "language_info": {
   "codemirror_mode": {
    "name": "ipython",
    "version": 3
   },
   "file_extension": ".py",
   "mimetype": "text/x-python",
   "name": "python",
   "nbconvert_exporter": "python",
   "pygments_lexer": "ipython3",
   "version": "3.7.12"
  },
  "papermill": {
   "default_parameters": {},
   "duration": 13.451477,
   "end_time": "2022-11-15T05:26:47.817651",
   "environment_variables": {},
   "exception": null,
   "input_path": "__notebook__.ipynb",
   "output_path": "__notebook__.ipynb",
   "parameters": {},
   "start_time": "2022-11-15T05:26:34.366174",
   "version": "2.3.4"
  }
 },
 "nbformat": 4,
 "nbformat_minor": 5
}
